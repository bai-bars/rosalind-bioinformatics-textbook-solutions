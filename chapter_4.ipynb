{
  "nbformat": 4,
  "nbformat_minor": 0,
  "metadata": {
    "colab": {
      "provenance": []
    },
    "kernelspec": {
      "name": "python3",
      "display_name": "Python 3"
    },
    "language_info": {
      "name": "python"
    }
  },
  "cells": [
    {
      "cell_type": "markdown",
      "source": [
        "# BA4A - <u> Translate an RNA String into an Amino Acid String"
      ],
      "metadata": {
        "id": "3Rk5X-0I-gU9"
      }
    },
    {
      "cell_type": "code",
      "source": [
        "##################### HELPER FUNCTIONS ###########################\n",
        "def get_codon_dict():\n",
        "  return {'UUU': 'F', 'CUU': 'L', 'AUU': 'I', 'GUU': 'V', 'UUC': 'F', 'CUC': 'L', 'AUC': 'I', 'GUC': 'V', 'UUA': 'L', 'CUA': 'L', 'AUA': 'I', 'GUA': 'V', 'UUG': 'L', 'CUG': 'L', 'AUG': 'M', 'GUG': 'V', 'UCU': 'S', 'CCU': 'P', 'ACU': 'T', 'GCU': 'A', 'UCC': 'S', 'CCC': 'P', 'ACC': 'T', 'GCC': 'A', 'UCA': 'S', 'CCA': 'P', 'ACA': 'T', 'GCA': 'A', 'UCG': 'S', 'CCG': 'P', 'ACG': 'T', 'GCG': 'A', 'UAU': 'Y', 'CAU': 'H', 'AAU': 'N', 'GAU': 'D', 'UAC': 'Y', 'CAC': 'H', 'AAC': 'N', 'GAC': 'D', 'UAA': 'Stop', 'CAA': 'Q', 'AAA': 'K', 'GAA': 'E', 'UAG': 'Stop', 'CAG': 'Q', 'AAG': 'K', 'GAG': 'E', 'UGU': 'C', 'CGU': 'R', 'AGU': 'S', 'GGU': 'G', 'UGC': 'C', 'CGC': 'R', 'AGC': 'S', 'GGC': 'G', 'UGA': 'Stop', 'CGA': 'R', 'AGA': 'R', 'GGA': 'G', 'UGG': 'W', 'CGG': 'R', 'AGG': 'R', 'GGG': 'G'}\n",
        "\n",
        "\n",
        "def translation(rna : str) -> str:\n",
        "  ans = \"\"\n",
        "\n",
        "  for i in range(0, len(rna), 3):\n",
        "    if CODON_TABLE[rna[i:i+3]] == 'Stop':\n",
        "      break\n",
        "    \n",
        "    ans += CODON_TABLE[rna[i:i+3]]\n",
        "\n",
        "\n",
        "  return ans   "
      ],
      "metadata": {
        "id": "ifuZNYnOeh23"
      },
      "execution_count": null,
      "outputs": []
    },
    {
      "cell_type": "code",
      "execution_count": null,
      "metadata": {
        "id": "UOQqHW0b-Ltg",
        "colab": {
          "base_uri": "https://localhost:8080/"
        },
        "outputId": "87bde489-bbc4-4350-baf5-1e7d5c3423c8"
      },
      "outputs": [
        {
          "output_type": "stream",
          "name": "stdout",
          "text": [
            "MAMAPRTEINSTRING\n"
          ]
        }
      ],
      "source": [
        "# DRIVER CODE\n",
        "rna = \"AUGGCCAUGGCGCCCAGAACUGAGAUCAAUAGUACCCGUAUUAACGGGUGA\"\n",
        "\n",
        "print(translation(rna))"
      ]
    },
    {
      "cell_type": "markdown",
      "source": [
        "<hr>"
      ],
      "metadata": {
        "id": "B2PtTJzihZwO"
      }
    },
    {
      "cell_type": "markdown",
      "source": [
        "# BA4B - <u> Find Substrings of a Genome Encoding a Given Amino Acid String "
      ],
      "metadata": {
        "id": "HvZcpWj6hVA-"
      }
    },
    {
      "cell_type": "code",
      "source": [
        "from collections import defaultdict\n",
        "from itertools import product\n",
        "\n",
        "#################### HELPER FUNCTIONS ##########################\n",
        "def get_codon_dict():\n",
        "  return {'UUU': 'F', 'CUU': 'L', 'AUU': 'I', 'GUU': 'V', 'UUC': 'F', 'CUC': 'L', 'AUC': 'I', 'GUC': 'V', 'UUA': 'L', 'CUA': 'L', 'AUA': 'I', 'GUA': 'V', 'UUG': 'L', 'CUG': 'L', 'AUG': 'M', 'GUG': 'V', 'UCU': 'S', 'CCU': 'P', 'ACU': 'T', 'GCU': 'A', 'UCC': 'S', 'CCC': 'P', 'ACC': 'T', 'GCC': 'A', 'UCA': 'S', 'CCA': 'P', 'ACA': 'T', 'GCA': 'A', 'UCG': 'S', 'CCG': 'P', 'ACG': 'T', 'GCG': 'A', 'UAU': 'Y', 'CAU': 'H', 'AAU': 'N', 'GAU': 'D', 'UAC': 'Y', 'CAC': 'H', 'AAC': 'N', 'GAC': 'D', 'UAA': 'Stop', 'CAA': 'Q', 'AAA': 'K', 'GAA': 'E', 'UAG': 'Stop', 'CAG': 'Q', 'AAG': 'K', 'GAG': 'E', 'UGU': 'C', 'CGU': 'R', 'AGU': 'S', 'GGU': 'G', 'UGC': 'C', 'CGC': 'R', 'AGC': 'S', 'GGC': 'G', 'UGA': 'Stop', 'CGA': 'R', 'AGA': 'R', 'GGA': 'G', 'UGG': 'W', 'CGG': 'R', 'AGG': 'R', 'GGG': 'G'}\n",
        "\n",
        "def get_anti_codon_dict():\n",
        "  codon_table = get_codon_dict()\n",
        "\n",
        "  anti_codon_dict = defaultdict(list)\n",
        "\n",
        "  for k, v in codon_table.items():\n",
        "    anti_codon_dict[v].append(k)\n",
        "\n",
        "  return anti_codon_dict\n",
        "\n",
        "\n",
        "def reverse_complement(pattern):\n",
        "  complement_table = {'A':'T', 'T':'A', 'G':'C', 'C':'G'}\n",
        "\n",
        "  return  \"\".join(complement_table[nu] for nu in pattern[::-1])\n",
        "\n",
        "def peptide_to_dna(peptide):\n",
        "  anti_codon_table = get_anti_codon_dict()\n",
        "\n",
        "  rna_list = [anti_codon_table[p] for p in peptide]\n",
        "\n",
        "\n",
        "  return [\"\".join(s).replace('U','T') for s in product(*rna_list)]\n",
        "\n",
        "############################################################################\n",
        "\n",
        "def reverse_translation(dna_pattern, peptide):\n",
        "  candidate_dna_list = peptide_to_dna(peptide)\n",
        "  candidate_dna_list += [reverse_complement(d) for d in candidate_dna_list]\n",
        "\n",
        "  k = len(peptide)*3\n",
        "\n",
        "  return \"\\n\".join(dna_pattern[i:i+k] for i in range(len(dna_pattern)-k+1) if dna_pattern[i:i+k] in candidate_dna_list)\n",
        "\n",
        "\n",
        "\n",
        "\n",
        "\n",
        "\n"
      ],
      "metadata": {
        "id": "2l6bUo-OhZAj"
      },
      "execution_count": null,
      "outputs": []
    },
    {
      "cell_type": "code",
      "source": [
        "# DRIVER CODE\n",
        "dna_pattern = \"ATGGCCATGGCCCCCAGAACTGAGATCAATAGTACCCGTATTAACGGGTGA\"\n",
        "peptide = \"MA\"\n",
        "\n",
        "reverse_translation(dna_pattern, peptide)"
      ],
      "metadata": {
        "colab": {
          "base_uri": "https://localhost:8080/",
          "height": 35
        },
        "id": "pOhpeCh0iQP8",
        "outputId": "d6013c7e-1b8b-4ada-f285-0747d3d60ae6"
      },
      "execution_count": null,
      "outputs": [
        {
          "output_type": "execute_result",
          "data": {
            "text/plain": [
              "'ATGGCC\\nGGCCAT\\nATGGCC'"
            ],
            "application/vnd.google.colaboratory.intrinsic+json": {
              "type": "string"
            }
          },
          "metadata": {},
          "execution_count": 26
        }
      ]
    },
    {
      "cell_type": "markdown",
      "source": [
        "<hr>"
      ],
      "metadata": {
        "id": "hszPkkCr_4v2"
      }
    },
    {
      "cell_type": "markdown",
      "source": [
        "# BA3C - <u> Generate the Theoretical Spectrum of a Cyclic Peptide"
      ],
      "metadata": {
        "id": "KMqmF5cb_6eP"
      }
    },
    {
      "cell_type": "code",
      "source": [
        "####################################### HELPER FUNCTIONS #################################\n",
        "def get_peptide_mass():\n",
        "  return {\n",
        "    'G': 57, 'A': 71, 'S': 87,'P': 97,'V': 99, 'T': 101,'C': 103, \n",
        "     'I': 113, 'L': 113, 'N': 114, 'D': 115, 'K': 128, 'Q': 128, \n",
        "     'E': 129, 'M': 131, 'H': 137,'F': 147,'R': 156,'Y': 163, 'W': 186}\n",
        "\n",
        "def calculate_mass(peptide):\n",
        "  mass_table = get_peptide_mass()\n",
        "\n",
        "  return sum(mass_table[p] for p in peptide)\n",
        "\n",
        "###########################################################################################\n",
        "\n",
        "def theoretical_spectrum_from_cyclic(peptide):\n",
        "  ln = len(peptide)\n",
        "  spectra = [\"\", peptide]\n",
        "\n",
        "  peptide = peptide + peptide[:-1]\n",
        "\n",
        "  for k in range(1,ln):\n",
        "    for i in range(ln):\n",
        "      mass = peptide[i:i+k]\n",
        "      spectra.append(mass)\n",
        "\n",
        "  \n",
        "  res = sorted([calculate_mass(s) for s in spectra])\n",
        "\n",
        "  return \" \".join([str(num) for num in res])"
      ],
      "metadata": {
        "id": "_nrN1nYqAAXh"
      },
      "execution_count": null,
      "outputs": []
    },
    {
      "cell_type": "code",
      "source": [
        "# DRIVER CODE\n",
        "peptide = 'LEQN'\n",
        "\n",
        "theoretical_spectrum_from_cyclic(peptide)"
      ],
      "metadata": {
        "id": "fMgChalVAC-A",
        "colab": {
          "base_uri": "https://localhost:8080/",
          "height": 36
        },
        "outputId": "e7f6fa9f-f6bf-4e12-ce98-327d1550cd70"
      },
      "execution_count": null,
      "outputs": [
        {
          "output_type": "execute_result",
          "data": {
            "text/plain": [
              "'0 113 114 128 129 227 242 242 257 355 356 370 371 484'"
            ],
            "application/vnd.google.colaboratory.intrinsic+json": {
              "type": "string"
            }
          },
          "metadata": {},
          "execution_count": 24
        }
      ]
    },
    {
      "cell_type": "markdown",
      "source": [
        "<hr>"
      ],
      "metadata": {
        "id": "8WaRlIsaG-k_"
      }
    },
    {
      "cell_type": "markdown",
      "source": [
        "# BA4D - <u> Compute the Number of Peptides of Given Total Mass"
      ],
      "metadata": {
        "id": "BKlx9pL3XjYS"
      }
    },
    {
      "cell_type": "code",
      "source": [
        "peptide_masses = [57, 71, 87, 97, 99, 101, 103, 113, 114, 115, 128, 129, 131, 137, 147, 156, 163, 186]\n",
        "\n",
        "def peptide_count_for_mass(mass):\n",
        "  masses = [0]*(mass+1)\n",
        "  masses[0] = 1\n",
        "\n",
        "  for i in range(mass+1):\n",
        "    for j in range(len(peptide_masses)):\n",
        "      if i >= peptide_masses[j]:\n",
        "        masses[i] += masses[i-peptide_masses[j]]\n",
        "\n",
        "  return masses[mass], masses"
      ],
      "metadata": {
        "id": "YZeQr29aXpxx"
      },
      "execution_count": null,
      "outputs": []
    },
    {
      "cell_type": "code",
      "source": [
        "# DRIVER CODE\n",
        "mass = 1394\n",
        "\n",
        "mass, masses = peptide_count_for_mass(mass)\n",
        "print(mass)"
      ],
      "metadata": {
        "colab": {
          "base_uri": "https://localhost:8080/"
        },
        "id": "IoS9H-Qv48Bt",
        "outputId": "28faf5f7-9d56-4ff6-84c3-5b41dfe26d07"
      },
      "execution_count": null,
      "outputs": [
        {
          "output_type": "stream",
          "name": "stdout",
          "text": [
            "375460980928373\n"
          ]
        }
      ]
    },
    {
      "cell_type": "markdown",
      "source": [
        "# PLOT"
      ],
      "metadata": {
        "id": "tmzrUzyX5CyH"
      }
    },
    {
      "cell_type": "code",
      "source": [
        "import matplotlib.pyplot as plt\n",
        "\n",
        "plt.plot(masses)"
      ],
      "metadata": {
        "colab": {
          "base_uri": "https://localhost:8080/",
          "height": 293
        },
        "id": "LyNa4YHD5Eg0",
        "outputId": "0e4fc55b-f8f6-49eb-c236-16322b3e1dd5"
      },
      "execution_count": null,
      "outputs": [
        {
          "output_type": "execute_result",
          "data": {
            "text/plain": [
              "[<matplotlib.lines.Line2D at 0x7fa8c5c0daf0>]"
            ]
          },
          "metadata": {},
          "execution_count": 8
        },
        {
          "output_type": "display_data",
          "data": {
            "text/plain": [
              "<Figure size 432x288 with 1 Axes>"
            ],
            "image/png": "[encoded data removed]"
          },
          "metadata": {
            "needs_background": "light"
          }
        }
      ]
    },
    {
      "cell_type": "markdown",
      "source": [
        "<hr>"
      ],
      "metadata": {
        "id": "EewAwx2ITZbl"
      }
    },
    {
      "cell_type": "markdown",
      "source": [
        "# BA4E - <u> Find a Cyclic Peptide with Theoretical Spectrum Matching an Ideal Spectrum\n"
      ],
      "metadata": {
        "id": "UhrLsvapI-rQ"
      }
    },
    {
      "cell_type": "code",
      "source": [
        "################################### HELPER FUNCTIONS #################################\n",
        "peptide_masses = [57, 71, 87, 97, 99, 101, 103, 113, 114, 115, 128, 129, 131, 137, 147, 156, 163, 186]\n",
        "\n",
        "def trim_false_candidate(spectrum):\n",
        "  return [s for s in spectrum if s in peptide_masses]\n",
        "\n",
        "def expand(peptides, actual_candidate):\n",
        "  res = []\n",
        "  for peptide in peptides:\n",
        "    for mass in actual_candidate:\n",
        "      res.append(peptide + [mass] )\n",
        "\n",
        "  return res\n",
        "\n",
        "def cyclo_spectrum(peptide_mass_lst):\n",
        "  ln = len(peptide_mass_lst)\n",
        "  spectra = [0, sum(peptide_mass_lst)]\n",
        "\n",
        "  peptide_mass_lst = peptide_mass_lst + peptide_mass_lst[:-1]\n",
        "\n",
        "  for k in range(1,ln):\n",
        "    for i in range(ln):\n",
        "      mass = sum(peptide_mass_lst[i:i+k])\n",
        "      spectra.append(mass)\n",
        "\n",
        "  return sorted(spectra)\n",
        "\n",
        "######################################################################################\n",
        "\n",
        "def cyclopeptide_sequencing(spectrum):\n",
        "  actual_candidate = trim_false_candidate(spectrum)\n",
        "\n",
        "  res = []\n",
        "  peptides = [[]]\n",
        "  \n",
        "  while True:\n",
        "    peptides = expand(peptides, actual_candidate)\n",
        "\n",
        "    for i in range(len(peptides)-1, -1, -1):\n",
        "      summ = sum(peptides[i])\n",
        "      if summ == spectrum[-1]:\n",
        "        if cyclo_spectrum(peptides[i]) == spectrum:\n",
        "          res.append(peptides[i])\n",
        "      elif summ >= spectrum[-1] or any(mass not in spectrum for mass in peptides[i]):\n",
        "        del peptides[i]\n",
        "\n",
        "    if len(peptides) == 0:\n",
        "      break\n",
        "\n",
        "  return \" \".join([f\"{'-'.join(str(num) for num in peptide)}\" for peptide in res])"
      ],
      "metadata": {
        "id": "eXEqosh7JV0q"
      },
      "execution_count": 93,
      "outputs": []
    },
    {
      "cell_type": "code",
      "source": [
        "# DRIVER CODE\n",
        "spectrum = [int(num) for num in \"0 113 128 186 241 299 314 427\".split()]\n",
        "\n",
        "cyclopeptide_sequencing(spectrum)"
      ],
      "metadata": {
        "colab": {
          "base_uri": "https://localhost:8080/",
          "height": 36
        },
        "id": "_WoagxJ4JjCM",
        "outputId": "99cc0745-6c99-4404-a3c3-0639d0959aaa"
      },
      "execution_count": 94,
      "outputs": [
        {
          "output_type": "execute_result",
          "data": {
            "text/plain": [
              "'186-128-113 186-113-128 128-186-113 128-113-186 113-186-128 113-128-186'"
            ],
            "application/vnd.google.colaboratory.intrinsic+json": {
              "type": "string"
            }
          },
          "metadata": {},
          "execution_count": 94
        }
      ]
    },
    {
      "cell_type": "markdown",
      "source": [
        "<hr>"
      ],
      "metadata": {
        "id": "qbwTWw7OTdwK"
      }
    },
    {
      "cell_type": "markdown",
      "source": [
        "# BA4F - <u> Compute the Score of a Cyclic Peptide Against a Spectrum"
      ],
      "metadata": {
        "id": "GQNc0AsY6aS6"
      }
    },
    {
      "cell_type": "code",
      "source": [
        "####################################### HELPER FUNCTIONS #################################\n",
        "def get_peptide_mass():\n",
        "  return {\n",
        "    'G': 57, 'A': 71, 'S': 87,'P': 97,'V': 99, 'T': 101,'C': 103, \n",
        "     'I': 113, 'L': 113, 'N': 114, 'D': 115, 'K': 128, 'Q': 128, \n",
        "     'E': 129, 'M': 131, 'H': 137,'F': 147,'R': 156,'Y': 163, 'W': 186}\n",
        "\n",
        "def calculate_mass(peptide):\n",
        "  mass_table = get_peptide_mass()\n",
        "\n",
        "  return sum(mass_table[p] for p in peptide)\n",
        "\n",
        "\n",
        "def cyclo_spectrum(peptide):\n",
        "  ln = len(peptide)\n",
        "  spectra = [\"\", peptide]\n",
        "\n",
        "  peptide = peptide + peptide[:-1]\n",
        "\n",
        "  for k in range(1,ln):\n",
        "    for i in range(ln):\n",
        "      mass = peptide[i:i+k]\n",
        "      spectra.append(mass)\n",
        "\n",
        "  return sorted([calculate_mass(s) for s in spectra])\n",
        "\n",
        "###########################################################################################\n",
        "def cyclic_score(peptide, cyclic_spectrum):\n",
        "  spectrum = cyclo_spectrum(peptide)\n",
        "\n",
        "  ln_i = len(cyclic_spectrum)\n",
        "  ln_j = len(spectrum)\n",
        "\n",
        "  i,j = 0, 0\n",
        "  score = 0\n",
        "  \n",
        "  while i<ln_i and j<ln_j:\n",
        "    if cyclic_spectrum[i] == spectrum[j]:\n",
        "      score += 1\n",
        "      i += 1\n",
        "      j += 1\n",
        "    elif cyclic_spectrum[i] > spectrum[j]:\n",
        "      j += 1\n",
        "    else:\n",
        "      i += 1\n",
        "\n",
        "  return score\n",
        "\n"
      ],
      "metadata": {
        "id": "l1MqJfbL6eqI"
      },
      "execution_count": 96,
      "outputs": []
    },
    {
      "cell_type": "code",
      "source": [
        "# DRIVER CODE\n",
        "peptide = \"NQEL\"\n",
        "spectrum = [int(num) for num in \"0 99 113 114 128 227 257 299 355 356 370 371 484\".split()]\n",
        "\n",
        "peptide = \"EAEYHMDHPFMAHFERHPMLDCFGVIKPAWSTFWKDK\"\n",
        "\n",
        "cyclic_score(peptide, spectrum)"
      ],
      "metadata": {
        "colab": {
          "base_uri": "https://localhost:8080/"
        },
        "id": "WpjBWLXS7Pjl",
        "outputId": "d5d243ab-827b-4593-f679-079fb385dfa6"
      },
      "execution_count": 100,
      "outputs": [
        {
          "output_type": "execute_result",
          "data": {
            "text/plain": [
              "8"
            ]
          },
          "metadata": {},
          "execution_count": 100
        }
      ]
    },
    {
      "cell_type": "markdown",
      "source": [
        "<hr>"
      ],
      "metadata": {
        "id": "ItqKdy5XThZO"
      }
    },
    {
      "cell_type": "markdown",
      "source": [
        "# BA4G - <u> Implement LeaderboardCyclopeptideSequencing"
      ],
      "metadata": {
        "id": "P1a8KOA_3vjy"
      }
    },
    {
      "cell_type": "code",
      "source": [
        "####################################### HELPER FUNCTIONS #################################\n",
        "peptide_masses = [57, 71, 87, 97, 99, 101, 103, 113, 114, 115, 128, 129, 131, 137, 147, 156, 163, 186]\n",
        "\n",
        "def get_peptide_mass():\n",
        "  return {\n",
        "    'G': 57, 'A': 71, 'S': 87,'P': 97,'V': 99, 'T': 101,'C': 103, \n",
        "     'I': 113, 'L': 113, 'N': 114, 'D': 115, 'K': 128, 'Q': 128, \n",
        "     'E': 129, 'M': 131, 'H': 137,'F': 147,'R': 156,'Y': 163, 'W': 186}\n",
        "\n",
        "\n",
        "def calculate_mass(peptide):\n",
        "  mass_table = get_peptide_mass()\n",
        "\n",
        "  return sum(mass_table[p] for p in peptide)\n",
        "\n",
        "def expand(peptides):\n",
        "  res = []\n",
        "  for peptide in peptides:\n",
        "    for mass in peptide_masses:\n",
        "      res.append(peptide + [mass] )\n",
        "\n",
        "  return res\n",
        "\n",
        "\n",
        "def linear_theoretical_spectrum(peptide_mass):\n",
        "  ln = len(peptide_mass)\n",
        "  subpeptide_lst = [0, sum(peptide_mass)]\n",
        "\n",
        "  for k in range(1, ln):\n",
        "    for i in range(ln-k+1):\n",
        "      subpeptide_mass = sum(peptide_mass[i:i+k])\n",
        "      subpeptide_lst.append(subpeptide_mass)\n",
        "  \n",
        "  return sorted(subpeptide_lst)\n",
        "\n",
        "def cyclo_spectrum(peptide):\n",
        "  ln = len(peptide)\n",
        "  spectra = [0, sum(peptide)]\n",
        "\n",
        "  peptide = peptide + peptide[:-1]\n",
        "\n",
        "  for k in range(1,ln):\n",
        "    for i in range(ln):\n",
        "      mass = sum(peptide[i:i+k])\n",
        "      spectra.append(mass)\n",
        "\n",
        "  return sorted(spectra)\n",
        "\n",
        "\n",
        "def cyclic_score(peptide_mass, cyclic_spectrum):\n",
        "  spectrum = cyclo_spectrum(peptide_mass)\n",
        "\n",
        "  ln_i = len(cyclic_spectrum)\n",
        "  ln_j = len(spectrum)\n",
        "\n",
        "  i,j = 0, 0\n",
        "  score = 0\n",
        "  \n",
        "  while i<ln_i and j<ln_j:\n",
        "    if cyclic_spectrum[i] == spectrum[j]:\n",
        "      score += 1\n",
        "      i += 1\n",
        "      j += 1\n",
        "    elif cyclic_spectrum[i] > spectrum[j]:\n",
        "      j += 1\n",
        "    else:\n",
        "      i += 1\n",
        "\n",
        "  return score\n",
        "\n",
        "\n",
        "def linear_score(peptide, linear_spectrum):\n",
        "  linear_cal_spec = linear_theoretical_spectrum(peptide)\n",
        "  ln_i = len(linear_spectrum)\n",
        "  ln_j = len(linear_cal_spec)\n",
        "\n",
        "  i,j = 0, 0\n",
        "  score = 0\n",
        "  \n",
        "  while i<ln_i and j<ln_j:\n",
        "    if linear_spectrum[i] == linear_cal_spec[j]:\n",
        "      score += 1\n",
        "      i += 1\n",
        "      j += 1\n",
        "    elif linear_spectrum[i] > linear_cal_spec[j]:\n",
        "      j += 1\n",
        "    else:\n",
        "      i += 1\n",
        "\n",
        "  return score\n",
        "\n",
        "\n",
        "def trim_leaderboard(leaderboard, spectrum, N):\n",
        "  linearscores = []\n",
        "  for peptide in leaderboard:\n",
        "    linearscores.append((linear_score(peptide, spectrum), peptide))\n",
        "\n",
        "  linearscores_ln = len(linearscores)\n",
        "\n",
        "  if linearscores_ln == 0:\n",
        "    return []\n",
        "\n",
        "  linearscores.sort(key= lambda x : -x[0])\n",
        "\n",
        "  tie_score = linearscores[linearscores_ln-1][0] if linearscores_ln < N else linearscores[N-1][0]\n",
        "\n",
        "  final_leaderboard = []\n",
        "\n",
        "  for l in linearscores:\n",
        "    if l[0] < tie_score:\n",
        "      break\n",
        "\n",
        "    final_leaderboard.append(l[1])\n",
        "\n",
        "  return final_leaderboard\n",
        "\n",
        "###########################################################################################\n",
        "def leaderboard_cyclopeptide_sequencing(spectrum, N):\n",
        "  leaderboard = [[]]\n",
        "  leaderpeptide = [0]\n",
        "\n",
        "  while True:\n",
        "    leaderboard = expand(leaderboard)\n",
        "    \n",
        "    for i in range(len(leaderboard)-1, -1, -1):\n",
        "      summ  = sum(leaderboard[i])\n",
        "\n",
        "      if summ == spectrum[-1]:\n",
        "        if cyclic_score(leaderboard[i], spectrum) > cyclic_score(leaderpeptide, spectrum):\n",
        "          leaderpeptide = leaderboard[i]\n",
        "\n",
        "      elif summ >= spectrum[-1]:\n",
        "        del leaderboard[i]\n",
        "    \n",
        "    leaderboard = trim_leaderboard(leaderboard, spectrum, N)\n",
        "    \n",
        "    if len(leaderboard) == 0:\n",
        "      break\n",
        "\n",
        "  \n",
        "  return \"-\".join(str(num) for num in leaderpeptide)\n",
        "\n"
      ],
      "metadata": {
        "id": "WLk__Qp53znl"
      },
      "execution_count": 37,
      "outputs": []
    },
    {
      "cell_type": "code",
      "source": [
        "# DRIVER CODE\n",
        "N = 10\n",
        "inp = \"0 71 113 129 147 200 218 260 313 331 347 389 460\"\n",
        "\n",
        "spectrum = [int(num) for num in inp.split()]\n",
        "\n",
        "leaderboard_cyclopeptide_sequencing(spectrum, N)"
      ],
      "metadata": {
        "colab": {
          "base_uri": "https://localhost:8080/",
          "height": 36
        },
        "id": "48t69GKN4ncm",
        "outputId": "76be375c-0551-43fc-878c-44e31e14a5ab"
      },
      "execution_count": 43,
      "outputs": [
        {
          "output_type": "execute_result",
          "data": {
            "text/plain": [
              "'129-113-147-71'"
            ],
            "application/vnd.google.colaboratory.intrinsic+json": {
              "type": "string"
            }
          },
          "metadata": {},
          "execution_count": 43
        }
      ]
    },
    {
      "cell_type": "markdown",
      "source": [
        "<hr>"
      ],
      "metadata": {
        "id": "00i2tq-vTlAp"
      }
    },
    {
      "cell_type": "markdown",
      "source": [
        "# BA4H - <u> Generate the Convolution of a Spectrum"
      ],
      "metadata": {
        "id": "bJ6CSRIErI1V"
      }
    },
    {
      "cell_type": "code",
      "source": [
        "from collections import defaultdict\n",
        "\n",
        "def generate_convolution_of_spec(spectrum):\n",
        "  count_map = defaultdict(int)\n",
        "  ln = len(spectrum)\n",
        "\n",
        "  for i in range(1, ln):\n",
        "    for j in range(i):\n",
        "      if spectrum[i] == spectrum[j]:\n",
        "        continue\n",
        "\n",
        "      diff = abs(spectrum[i] - spectrum[j])\n",
        "      count_map[diff] += 1\n",
        "\n",
        "  convolutional_dict = sorted(count_map.items(), key= lambda x : x[1], reverse=True)\n",
        "  \n",
        "  return \" \".join([ \" \".join([str(item[0]) for i in range(item[1])]) for item in convolutional_dict])\n"
      ],
      "metadata": {
        "id": "JndJliqZrNHX"
      },
      "execution_count": 58,
      "outputs": []
    },
    {
      "cell_type": "code",
      "source": [
        "spectrum = [int(num) for num in \"0 137 186 323\".split()]\n",
        "\n",
        "generate_convolution_of_spec(spectrum)"
      ],
      "metadata": {
        "colab": {
          "base_uri": "https://localhost:8080/",
          "height": 36
        },
        "id": "xLDmarN8rbrP",
        "outputId": "3beba6e8-e0ec-43a5-dca0-fa99ad3199b5"
      },
      "execution_count": 65,
      "outputs": [
        {
          "output_type": "execute_result",
          "data": {
            "text/plain": [
              "'137 137 186 186 49 323'"
            ],
            "application/vnd.google.colaboratory.intrinsic+json": {
              "type": "string"
            }
          },
          "metadata": {},
          "execution_count": 65
        }
      ]
    },
    {
      "cell_type": "markdown",
      "source": [
        "<hr>"
      ],
      "metadata": {
        "id": "kIIeJ2D4Tnmu"
      }
    },
    {
      "cell_type": "markdown",
      "source": [
        "# BA4I - <u> Implement ConvolutionCyclopeptideSequencing"
      ],
      "metadata": {
        "id": "r967oKDu5QYk"
      }
    },
    {
      "cell_type": "code",
      "source": [
        "from collections import defaultdict\n",
        "\n",
        "######################################### HELPER FUNCTIONS ##################################\n",
        "def expand(peptides, actual_candidate):\n",
        "  res = []\n",
        "  for peptide in peptides:\n",
        "    for mass in actual_candidate:\n",
        "      res.append(peptide + [mass] )\n",
        "\n",
        "  return res\n",
        "\n",
        "\n",
        "def linear_theoretical_spectrum(peptide_mass):\n",
        "  ln = len(peptide_mass)\n",
        "  subpeptide_lst = [0, sum(peptide_mass)]\n",
        "\n",
        "  for k in range(1, ln):\n",
        "    for i in range(ln-k+1):\n",
        "      subpeptide_mass = sum(peptide_mass[i:i+k])\n",
        "      subpeptide_lst.append(subpeptide_mass)\n",
        "  \n",
        "  return sorted(subpeptide_lst)\n",
        "\n",
        "\n",
        "def cyclo_spectrum(peptide):\n",
        "  ln = len(peptide)\n",
        "  spectra = [0, sum(peptide)]\n",
        "\n",
        "  peptide = peptide + peptide[:-1]\n",
        "\n",
        "  for k in range(1,ln):\n",
        "    for i in range(ln):\n",
        "      mass = sum(peptide[i:i+k])\n",
        "      spectra.append(mass)\n",
        "\n",
        "  return sorted(spectra)\n",
        "\n",
        "\n",
        "def cyclic_score(peptide_mass, cyclic_spectrum):\n",
        "  spectrum = cyclo_spectrum(peptide_mass)\n",
        "\n",
        "  ln_i = len(cyclic_spectrum)\n",
        "  ln_j = len(spectrum)\n",
        "\n",
        "  i,j = 0, 0\n",
        "  score = 0\n",
        "  \n",
        "  while i<ln_i and j<ln_j:\n",
        "    if cyclic_spectrum[i] == spectrum[j]:\n",
        "      score += 1\n",
        "      i += 1\n",
        "      j += 1\n",
        "    elif cyclic_spectrum[i] > spectrum[j]:\n",
        "      j += 1\n",
        "    else:\n",
        "      i += 1\n",
        "\n",
        "  return score\n",
        "\n",
        "\n",
        "def linear_score(peptide, linear_spectrum):\n",
        "  linear_cal_spec = linear_theoretical_spectrum(peptide)\n",
        "  ln_i = len(linear_spectrum)\n",
        "  ln_j = len(linear_cal_spec)\n",
        "\n",
        "  i,j = 0, 0\n",
        "  score = 0\n",
        "  \n",
        "  while i<ln_i and j<ln_j:\n",
        "    if linear_spectrum[i] == linear_cal_spec[j]:\n",
        "      score += 1\n",
        "      i += 1\n",
        "      j += 1\n",
        "    elif linear_spectrum[i] > linear_cal_spec[j]:\n",
        "      j += 1\n",
        "    else:\n",
        "      i += 1\n",
        "\n",
        "  return score\n",
        "\n",
        "\n",
        "def trim_leaderboard(leaderboard, spectrum, N):\n",
        "  linearscores = []\n",
        "  for peptide in leaderboard:\n",
        "    linearscores.append((linear_score(peptide, spectrum), peptide))\n",
        "\n",
        "  linearscores_ln = len(linearscores)\n",
        "\n",
        "  if linearscores_ln == 0:\n",
        "    return []\n",
        "\n",
        "  linearscores.sort(key= lambda x : -x[0])\n",
        "\n",
        "  tie_score = linearscores[linearscores_ln-1][0] if linearscores_ln < N else linearscores[N-1][0]\n",
        "\n",
        "  final_leaderboard = []\n",
        "\n",
        "  for l in linearscores:\n",
        "    if l[0] < tie_score:\n",
        "      break\n",
        "\n",
        "    final_leaderboard.append(l[1])\n",
        "\n",
        "  return final_leaderboard\n",
        "\n",
        "\n",
        "def leaderboard_cyclopeptide_sequencing(spectrum,actual_candidate, N):\n",
        "  leaderboard = [[]]\n",
        "  leaderpeptide = [0]\n",
        "\n",
        "  while True:\n",
        "    leaderboard = expand(leaderboard, actual_candidate)\n",
        "    \n",
        "    for i in range(len(leaderboard)-1, -1, -1):\n",
        "      summ  = sum(leaderboard[i])\n",
        "\n",
        "      if summ == spectrum[-1]:\n",
        "        if cyclic_score(leaderboard[i], spectrum) >= cyclic_score(leaderpeptide, spectrum):\n",
        "          leaderpeptide = leaderboard[i]\n",
        "\n",
        "      elif summ >= spectrum[-1]:\n",
        "        del leaderboard[i]\n",
        "    \n",
        "    leaderboard = trim_leaderboard(leaderboard, spectrum, N)\n",
        "    \n",
        "    if len(leaderboard) == 0:\n",
        "      break\n",
        "\n",
        "  \n",
        "  return \"-\".join(str(num) for num in leaderpeptide)\n",
        "\n",
        "\n",
        "def generate_convolution_of_spec(spectrum, M):\n",
        "  count_map = defaultdict(int)\n",
        "  ln = len(spectrum)\n",
        "\n",
        "  for i in range(1, ln):\n",
        "    for j in range(i):\n",
        "      if spectrum[i] == spectrum[j]:\n",
        "        continue\n",
        "\n",
        "      diff = abs(spectrum[i] - spectrum[j])\n",
        "      count_map[diff] += 1\n",
        "\n",
        "  convolutional_dict = list(sorted(count_map.items(), key= lambda x : x[1], reverse=True))\n",
        "  \n",
        "  ln_convo = len(convolutional_dict)\n",
        "\n",
        "  if ln>0 :\n",
        "    tie_val = convolutional_dict[M-1][1] if M < ln_convo else convolutional_dict[ln_convo-1][1]\n",
        "\n",
        "  res = set()\n",
        "\n",
        "  for item in convolutional_dict:\n",
        "    if item[1] < tie_val:\n",
        "      break\n",
        "\n",
        "    if item[0] >= 57 and item[0] <= 200:\n",
        "      res.add(item[0])\n",
        "  \n",
        "  return res\n",
        "###########################################################################################\n",
        "\n",
        "\n",
        "\n",
        "def convolution_cyclopeptide_sequencing(M, N, spectrum):\n",
        "  actual_candidate = (generate_convolution_of_spec(spectrum, M))\n",
        "\n",
        "  return leaderboard_cyclopeptide_sequencing(spectrum, actual_candidate, N)"
      ],
      "metadata": {
        "id": "MahKXlTr5Wzf"
      },
      "execution_count": 118,
      "outputs": []
    },
    {
      "cell_type": "code",
      "source": [
        "# DRIVER CODE\n",
        "M = 20\n",
        "N = 60\n",
        "spectrum = [int(num) for num in \"57 57 71 99 129 137 170 186 194 208 228 265 285 299 307 323 356 364 394 422 493\".split()]\n",
        "\n",
        "convolution_cyclopeptide_sequencing(M, N, spectrum)"
      ],
      "metadata": {
        "colab": {
          "base_uri": "https://localhost:8080/",
          "height": 36
        },
        "id": "wXS4ewsG5XXM",
        "outputId": "d817acc1-8faa-4ff5-89e6-473170d76f49"
      },
      "execution_count": 119,
      "outputs": [
        {
          "output_type": "execute_result",
          "data": {
            "text/plain": [
              "'99-71-137-57-58-71'"
            ],
            "application/vnd.google.colaboratory.intrinsic+json": {
              "type": "string"
            }
          },
          "metadata": {},
          "execution_count": 119
        }
      ]
    },
    {
      "cell_type": "markdown",
      "source": [
        "<hr>"
      ],
      "metadata": {
        "id": "z7KbXRP6TrhN"
      }
    },
    {
      "cell_type": "markdown",
      "source": [
        "# BA4J - <u> Generate the Theoretical Spectrum of a Linear Peptide"
      ],
      "metadata": {
        "id": "_ASwILfOG_yD"
      }
    },
    {
      "cell_type": "code",
      "source": [
        "####################################### HELPER FUNCTIONS #################################\n",
        "def get_peptide_mass():\n",
        "  return {\n",
        "    'G': 57, 'A': 71, 'S': 87,'P': 97,'V': 99, 'T': 101,'C': 103, \n",
        "     'I': 113, 'L': 113, 'N': 114, 'D': 115, 'K': 128, 'Q': 128, \n",
        "     'E': 129, 'M': 131, 'H': 137,'F': 147,'R': 156,'Y': 163, 'W': 186}\n",
        "\n",
        "def calculate_mass(peptide):\n",
        "  mass_table = get_peptide_mass()\n",
        "\n",
        "  return sum(mass_table[p] for p in peptide)\n",
        "\n",
        "###########################################################################################\n",
        "\n",
        "def linear_theoretical_spectrum(peptide):\n",
        "  ln = len(peptide)\n",
        "  subpeptide_lst = [\"\", peptide]\n",
        "\n",
        "  for k in range(1, ln):\n",
        "    for i in range(ln-k+1):\n",
        "      subpeptide = peptide[i:i+k]\n",
        "      subpeptide_lst.append(subpeptide)\n",
        "\n",
        "  res = sorted([calculate_mass(p) for p in subpeptide_lst])\n",
        "  \n",
        "  return \" \".join([str(e) for e in res])"
      ],
      "metadata": {
        "id": "cKrQ4nD4HMkw"
      },
      "execution_count": null,
      "outputs": []
    },
    {
      "cell_type": "code",
      "source": [
        "# DRIVER CODE\n",
        "peptide = \"NQEL\"\n",
        "\n",
        "linear_theoretical_spectrum(peptide)"
      ],
      "metadata": {
        "colab": {
          "base_uri": "https://localhost:8080/",
          "height": 36
        },
        "id": "-2r0RU3BQlmk",
        "outputId": "265ccbf0-8448-4dec-a443-4e44400eab7c"
      },
      "execution_count": null,
      "outputs": [
        {
          "output_type": "execute_result",
          "data": {
            "text/plain": [
              "'0 113 114 128 129 242 242 257 370 371 484'"
            ],
            "application/vnd.google.colaboratory.intrinsic+json": {
              "type": "string"
            }
          },
          "metadata": {},
          "execution_count": 18
        }
      ]
    },
    {
      "cell_type": "markdown",
      "source": [
        "<hr>"
      ],
      "metadata": {
        "id": "JbNU0KQ8TuQs"
      }
    },
    {
      "cell_type": "markdown",
      "source": [
        "# BA4K - <u> Compute the Score of a Linear Peptide"
      ],
      "metadata": {
        "id": "fZiyTLySTshu"
      }
    },
    {
      "cell_type": "code",
      "source": [
        "####################################### HELPER FUNCTIONS #################################\n",
        "def get_peptide_mass():\n",
        "  return {\n",
        "    'G': 57, 'A': 71, 'S': 87,'P': 97,'V': 99, 'T': 101,'C': 103, \n",
        "     'I': 113, 'L': 113, 'N': 114, 'D': 115, 'K': 128, 'Q': 128, \n",
        "     'E': 129, 'M': 131, 'H': 137,'F': 147,'R': 156,'Y': 163, 'W': 186}\n",
        "\n",
        "\n",
        "def calculate_mass(peptide):\n",
        "  mass_table = get_peptide_mass()\n",
        "\n",
        "  return sum(mass_table[p] for p in peptide)\n",
        "\n",
        "\n",
        "def linear_theoretical_spectrum(peptide):\n",
        "  ln = len(peptide)\n",
        "  subpeptide_lst = [\"\", peptide]\n",
        "\n",
        "  for k in range(1, ln):\n",
        "    for i in range(ln-k+1):\n",
        "      subpeptide = peptide[i:i+k]\n",
        "      subpeptide_lst.append(subpeptide)\n",
        "\n",
        "  res = sorted([calculate_mass(p) for p in subpeptide_lst])\n",
        "  \n",
        "  return res\n",
        "\n",
        "###########################################################################################\n",
        "def calculate_score(peptide, linear_spectrum):\n",
        "  linear_lst = [int(num) for num in linear_spectrum.split()]\n",
        "  linear_cal_spec = linear_theoretical_spectrum(peptide)\n",
        "  ln_i = len(linear_lst)\n",
        "  ln_j = len(linear_cal_spec)\n",
        "\n",
        "  i,j = 0, 0\n",
        "  score = 0\n",
        "  \n",
        "  while i<ln_i and j<ln_j:\n",
        "    if linear_lst[i] == linear_cal_spec[j]:\n",
        "      score += 1\n",
        "      i += 1\n",
        "      j += 1\n",
        "    elif linear_lst[i] > linear_cal_spec[j]:\n",
        "      j += 1\n",
        "    else:\n",
        "      i += 1\n",
        "\n",
        "  return score"
      ],
      "metadata": {
        "id": "tvvhizd-TxSQ"
      },
      "execution_count": null,
      "outputs": []
    },
    {
      "cell_type": "code",
      "source": [
        "# DRIVER CODE\n",
        "peptide = \"NQEL\"\n",
        "spectrum = \"0 99 113 114 128 227 257 299 355 356 370 371 484\"\n",
        "\n",
        "calculate_score(peptide, spectrum)"
      ],
      "metadata": {
        "colab": {
          "base_uri": "https://localhost:8080/"
        },
        "id": "lD0nhD0VUvr4",
        "outputId": "a0c23e96-4b99-4096-9df7-9d5b56544fe9"
      },
      "execution_count": null,
      "outputs": [
        {
          "output_type": "execute_result",
          "data": {
            "text/plain": [
              "8"
            ]
          },
          "metadata": {},
          "execution_count": 40
        }
      ]
    },
    {
      "cell_type": "markdown",
      "source": [
        "<hr>"
      ],
      "metadata": {
        "id": "xyCNW5HsTwuI"
      }
    },
    {
      "cell_type": "markdown",
      "source": [
        "# BA4L - <u> Trim a Peptide Leaderboard"
      ],
      "metadata": {
        "id": "F_Z_SLzkA5e0"
      }
    },
    {
      "cell_type": "code",
      "source": [
        "####################################### HELPER FUNCTIONS #################################\n",
        "def get_peptide_mass():\n",
        "  return {\n",
        "    'G': 57, 'A': 71, 'S': 87,'P': 97,'V': 99, 'T': 101,'C': 103, \n",
        "     'I': 113, 'L': 113, 'N': 114, 'D': 115, 'K': 128, 'Q': 128, \n",
        "     'E': 129, 'M': 131, 'H': 137,'F': 147,'R': 156,'Y': 163, 'W': 186}\n",
        "\n",
        "\n",
        "def calculate_mass(peptide):\n",
        "  mass_table = get_peptide_mass()\n",
        "\n",
        "  return sum(mass_table[p] for p in peptide)\n",
        "\n",
        "\n",
        "def linear_theoretical_spectrum(peptide):\n",
        "  ln = len(peptide)\n",
        "  subpeptide_lst = [\"\", peptide]\n",
        "\n",
        "  for k in range(1, ln):\n",
        "    for i in range(ln-k+1):\n",
        "      subpeptide = peptide[i:i+k]\n",
        "      subpeptide_lst.append(subpeptide)\n",
        "\n",
        "  res = sorted([calculate_mass(p) for p in subpeptide_lst])\n",
        "  \n",
        "  return res\n",
        "\n",
        "def linear_score(peptide, linear_spectrum):\n",
        "  linear_lst = [int(num) for num in linear_spectrum]\n",
        "  linear_cal_spec = linear_theoretical_spectrum(peptide)\n",
        "  ln_i = len(linear_lst)\n",
        "  ln_j = len(linear_cal_spec)\n",
        "\n",
        "  i,j = 0, 0\n",
        "  score = 0\n",
        "  \n",
        "  while i<ln_i and j<ln_j:\n",
        "    if linear_lst[i] == linear_cal_spec[j]:\n",
        "      score += 1\n",
        "      i += 1\n",
        "      j += 1\n",
        "    elif linear_lst[i] > linear_cal_spec[j]:\n",
        "      j += 1\n",
        "    else:\n",
        "      i += 1\n",
        "\n",
        "  return score\n",
        "\n",
        "###########################################################################################\n",
        "\n",
        "def trim_leaderboard(leaderboard, spectrum, N):\n",
        "  linearscores = []\n",
        "  for peptide in leaderboard:\n",
        "    linearscores.append((linear_score(peptide, spectrum), peptide))\n",
        "\n",
        "  linearscores.sort(key= lambda x : -x[0])\n",
        "\n",
        "  tie_score = linearscores[N-1][0]\n",
        "\n",
        "  final_leaderboard = []\n",
        "\n",
        "  for l in linearscores:\n",
        "    if l[0] < tie_score:\n",
        "      break\n",
        "    \n",
        "    final_leaderboard.append(l[1])\n",
        "\n",
        "  return \" \".join(final_leaderboard)"
      ],
      "metadata": {
        "id": "9afrmB1EA_fo"
      },
      "execution_count": 2,
      "outputs": []
    },
    {
      "cell_type": "code",
      "source": [
        "# DRIVER CODE\n",
        "leaderboard = \"LAST ALST TLLT TQAS\".split()\n",
        "spectrum = \"0 71 87 101 113 158 184 188 259 271 372\".split()\n",
        "N = 2\n",
        "\n",
        "trim_leaderboard(leaderboard, spectrum, N)"
      ],
      "metadata": {
        "colab": {
          "base_uri": "https://localhost:8080/",
          "height": 36
        },
        "id": "gAuFRjyHCSe6",
        "outputId": "fbb8613a-6b8c-4cd4-93fb-f4b5dfaf1d89"
      },
      "execution_count": 3,
      "outputs": [
        {
          "output_type": "execute_result",
          "data": {
            "text/plain": [
              "'LAST ALST'"
            ],
            "application/vnd.google.colaboratory.intrinsic+json": {
              "type": "string"
            }
          },
          "metadata": {},
          "execution_count": 3
        }
      ]
    },
    {
      "cell_type": "markdown",
      "source": [
        "<hr>"
      ],
      "metadata": {
        "id": "Ec_I4GaTTzeC"
      }
    }
  ]
}