{
 "cells": [
  {
   "cell_type": "markdown",
   "metadata": {
    "id": "ccP-ejc4QZcg"
   },
   "source": [
    "# BA2A - <u> Implement MotifEnumeration"
   ]
  },
  {
   "cell_type": "code",
   "execution_count": null,
   "metadata": {
    "id": "HogIT__OQArQ"
   },
   "outputs": [],
   "source": [
    "################################ HELPER FUNCTIONS #####################################\n",
    "import itertools\n",
    "\n",
    "def all_combinations(k):\n",
    "  return [''.join(p) for p in itertools.product(\"ACGT\", repeat=k)]\n",
    "\n",
    "def hamming_dist(kmer1, kmer2):\n",
    "  return sum(i!=j for i,j in zip(kmer1,kmer2))\n",
    "\n",
    "def kmer_exists_with_mismatch(kmer, dna,d):\n",
    "  return any(hamming_dist(kmer, dna[i : i+len(kmer)])<=d for i in range(len(dna)-len(kmer)+1))\n",
    "\n",
    "\n",
    "def kmer_set_from_dna_list(dna_list, k):\n",
    "  return {dna_list[i][j: j+k] for i in range(len(dna_list)) for j in range(len(dna_list[i]) -k +1)}\n",
    "\n",
    "def neighbourhood_kmer(all_combo, kmer,d):\n",
    "  for nkmer in all_combo:\n",
    "    if hamming_dist(nkmer, kmer) <= d:\n",
    "      yield nkmer\n",
    "\n",
    "#######################################################################################\n",
    "\n",
    "# MY IMPLEMENTATION\n",
    "def motif_enumerate(dna_list, k, d):\n",
    "  motif_set = set()\n",
    "\n",
    "  for kmer in all_combinations(k):\n",
    "     if all(kmer_exists_with_mismatch(kmer,dna, d) for dna in dna_list):\n",
    "       motif_set.add(kmer)\n",
    "\n",
    "  return ' '.join(motif_set)\n",
    "\n",
    "\n",
    "# ACCORDING TO GIVEN ALGORITHM\n",
    "def motif_enumeration(dna, k, d):\n",
    "  final_motif_set = set()\n",
    "  all_kmer_set = kmer_set_from_dna_list(dna_list, k)\n",
    "  all_combo = all_combinations(k)\n",
    "\n",
    "  for kmer in all_kmer_set:\n",
    "    neighbour_kmer_list = neighbourhood_kmer(all_combo, kmer,d)\n",
    "\n",
    "    for neighbour_kmer in neighbour_kmer_list:\n",
    "      if all(kmer_exists_with_mismatch(neighbour_kmer, dna, d) for dna in dna_list):\n",
    "        final_motif_set.add(neighbour_kmer)\n",
    "\n",
    "  return ' '.join(final_motif_set)"
   ]
  },
  {
   "cell_type": "code",
   "execution_count": null,
   "metadata": {
    "colab": {
     "base_uri": "https://localhost:8080/",
     "height": 36
    },
    "id": "yvTF4NCoTPFy",
    "outputId": "a9d4cd1a-35bc-4503-e5c1-aa14e9fab7b6"
   },
   "outputs": [
    {
     "data": {
      "application/vnd.google.colaboratory.intrinsic+json": {
       "type": "string"
      },
      "text/plain": [
       "'TTT ATA GTT ATT'"
      ]
     },
     "execution_count": 2,
     "metadata": {},
     "output_type": "execute_result"
    }
   ],
   "source": [
    "# DRIVER CODE\n",
    "dna1 = 'ATTTGGC'\n",
    "dna2 = 'TGCCTTA'\n",
    "dna3 = 'CGGTATC'\n",
    "dna4 = 'GAAAATT'\n",
    "k, d = 3, 1\n",
    "dna_list = [dna1, dna2, dna3, dna4]\n",
    "            \n",
    "motif_enumeration(dna_list, k, d)"
   ]
  },
  {
   "cell_type": "markdown",
   "metadata": {
    "id": "Lac9IzKYP2Ca"
   },
   "source": [
    "<hr>"
   ]
  },
  {
   "cell_type": "markdown",
   "metadata": {
    "id": "4s0G6F2m7Pww"
   },
   "source": [
    "# BA2B - <u> Find a Median String"
   ]
  },
  {
   "cell_type": "code",
   "execution_count": null,
   "metadata": {
    "id": "UVlxsQTqh4BS"
   },
   "outputs": [],
   "source": [
    "################################ HELPER FUNCTIONS #####################################\n",
    "import itertools\n",
    "\n",
    "def hamming_dist(kmer1, kmer2):\n",
    "  return sum(i!=j for i,j in zip(kmer1,kmer2))\n",
    "\n",
    "def kmer_set(dna, k):\n",
    "  return {dna[i:i+k]for i in range(len(dna)-k+1)}\n",
    "  \n",
    "def all_combinations(k):\n",
    "  return [''.join(p) for p in itertools.product(\"ACGT\", repeat=k)]\n",
    "  \n",
    "def min_score_from_single_dna(pattern, dna):\n",
    "  return min(hamming_dist(pattern, kmer) for kmer in kmer_set(dna, len(pattern)))\n",
    "\n",
    "def min_score_from_all_dna(pattern, dna_list):\n",
    "  return sum(min_score_from_single_dna(pattern, dna) for dna in dna_list)\n",
    "\n",
    "########################################################################################\n",
    "\n",
    "def find_median_string(k, dna_list):\n",
    "\n",
    "  # MINIMUM DISTANCE INITIALIZATION\n",
    "  min_dist = k*len(dna_list)\n",
    "\n",
    "  all_combo = all_combinations(k)\n",
    "\n",
    "  for kmer in all_combo:\n",
    "    cur_dist = min_score_from_all_dna(kmer, dna_list)\n",
    "    \n",
    "    if cur_dist <= min_dist:\n",
    "      min_dist = cur_dist\n",
    "      motif = kmer\n",
    "    \n",
    "  return motif\n"
   ]
  },
  {
   "cell_type": "code",
   "execution_count": null,
   "metadata": {
    "colab": {
     "base_uri": "https://localhost:8080/",
     "height": 36
    },
    "id": "WEqVVI8FL96s",
    "outputId": "3748801d-6a60-4084-841c-ccb14eda83f0"
   },
   "outputs": [
    {
     "data": {
      "application/vnd.google.colaboratory.intrinsic+json": {
       "type": "string"
      },
      "text/plain": [
       "'GCTACC'"
      ]
     },
     "execution_count": 34,
     "metadata": {},
     "output_type": "execute_result"
    }
   ],
   "source": [
    "# DRIVER CODE\n",
    "k = 6\n",
    "dna1 = 'GCCGCAGATGTAAGCGTTAAACGCGGGGATGCTAGCCGAGGG'\n",
    "dna2 = 'ACCATTCCTCCAATCAACGCTACCAAATTTGGTAGTCGGGCA'\n",
    "dna3 = 'GCTACCTTGAAATCAGGGTAGGGTAACCCAACGCCAGTCATG'\n",
    "dna4 = 'AGCTGCTGAGCCAATAGAGCTACCCGCGCTAAATAAAGCCCC'\n",
    "dna5 = 'CGACTGTATGTCCAGCGACAGGGTGCTAGCGCAACCATAATG'\n",
    "dna6 = 'GGGAGCGCGACCACCGAGACCCTACGTAGGTGAACTGCTAAC'\n",
    "dna7 = 'TCCAACTTTATCTAAGTCAGAGGTAGCATCATAGAGGCTAAC'\n",
    "dna8 = 'TGACATAATGATGAAGATGCTATCTTGACTATTTGCCTGTGG'\n",
    "dna9 = 'ACGATGGACCGGAGGAGTGCTATCCGTCAGTAATTCGGGTTA'\n",
    "dna10 = 'CTTCCGCTTACACTTACTCTATGCGGTGTCGAGCCTGCTACC'\n",
    "\n",
    "\n",
    "dna_list = [dna1, dna2, dna3, dna4, dna5, dna6, dna7, dna8, dna9, dna10]\n",
    "\n",
    "find_median_string(k, dna_list)"
   ]
  },
  {
   "cell_type": "markdown",
   "metadata": {
    "id": "iAn2gFaTP6eA"
   },
   "source": [
    "<hr>"
   ]
  },
  {
   "cell_type": "markdown",
   "metadata": {
    "id": "8FrB-ZyiP79k"
   },
   "source": [
    "# BA2C - <u> Find a Profile-most Probable k-mer in a String"
   ]
  },
  {
   "cell_type": "code",
   "execution_count": null,
   "metadata": {
    "id": "i5Pcga5ZgwqW"
   },
   "outputs": [],
   "source": [
    "####################################### HELPER FUNCTIONS #############################\n",
    "import math\n",
    "import numpy as np\n",
    "\n",
    "def kmer_set(dna, k):\n",
    "  return {dna[i:i+k] for i in range(len(dna)-k+1)}\n",
    "\n",
    "def create_profile_dict(profile_str):\n",
    "  return {'ACGT'[idx] : [float(col) for col in row.split()] for idx, row in enumerate(profile_str.split('\\n'))}\n",
    "\n",
    "def calculate_probabilty(kmer, profile_dict):\n",
    "  return np.prod([profile_dict[nucleotide][i] for i, nucleotide in enumerate(kmer)])\n",
    "\n",
    "#####################################################################################\n",
    "\n",
    "def profile_most_probable_kmer(text, k, profile_dict):\n",
    "  return max([(calculate_probabilty(kmer, profile_dict), kmer) for kmer in kmer_set(text, k)], key =lambda item : item[0])[1]\n"
   ]
  },
  {
   "cell_type": "code",
   "execution_count": null,
   "metadata": {
    "colab": {
     "base_uri": "https://localhost:8080/",
     "height": 36
    },
    "id": "KRlaWbg3QPI0",
    "outputId": "0c5d9842-69fe-4916-cb2b-5b4098758912"
   },
   "outputs": [
    {
     "data": {
      "application/vnd.google.colaboratory.intrinsic+json": {
       "type": "string"
      },
      "text/plain": [
       "'AGCACCG'"
      ]
     },
     "execution_count": 38,
     "metadata": {},
     "output_type": "execute_result"
    }
   ],
   "source": [
    "# DRIVER CODE\n",
    "text = 'TACCTGTTTATTGCCTAAGTTCCGAACAAACCCAATATAGCCCGAGGGCCT'\n",
    "k = 5\n",
    "profile_str = '''0.2 0.2 0.3 0.2 0.3\n",
    "                  0.4 0.3 0.1 0.5 0.1\n",
    "                  0.3 0.3 0.5 0.2 0.4\n",
    "                  0.1 0.2 0.1 0.1 0.2'''\n",
    "\n",
    "\n",
    "profile_dict = create_profile_dict(profile_str)\n",
    "profile_most_probable_kmer(text, k, profile_dict)"
   ]
  },
  {
   "cell_type": "markdown",
   "metadata": {
    "id": "VRzPaNc9LNLc"
   },
   "source": [
    "<hr>"
   ]
  },
  {
   "cell_type": "markdown",
   "metadata": {
    "id": "SRzaG2Fa1VCT"
   },
   "source": [
    "# BA2D - <u> Implement GreedyMotifSearch"
   ]
  },
  {
   "cell_type": "code",
   "execution_count": null,
   "metadata": {
    "id": "3GWv9R5f1YK8"
   },
   "outputs": [],
   "source": [
    "############################################### HELPER FUNCTIONS #################################\n",
    "from collections import defaultdict, Counter\n",
    "import numpy as np\n",
    "\n",
    "def kmer_list(dna, k):\n",
    "  return [dna[i:i+k] for i in range(len(dna)-k+1)]\n",
    "\n",
    "def calculate_probabilty(kmer, profile_dict):\n",
    "  return np.prod([profile_dict[nucleotide][i] for i, nucleotide in enumerate(kmer)])\n",
    "\n",
    "def profile_most_probable_kmer(text, k, profile_dict):\n",
    "  return max([(calculate_probabilty(kmer, profile_dict), kmer) for kmer in kmer_list(text, k)], key =lambda item : item[0])[1]\n",
    "\n",
    "def get_column(dna_list, col_num=0):\n",
    "  return [dna[col_num] for dna in dna_list]\n",
    "\n",
    "def create_count_dict(dna_list, k):\n",
    "  nucleotides = 'ACGT'\n",
    "  count_dict = defaultdict(list)\n",
    "\n",
    "  for i in range(k):\n",
    "      column = get_column(dna_list, col_num = i)\n",
    "\n",
    "      for n in nucleotides:\n",
    "        count_dict[n].append(column.count(n))\n",
    "  \n",
    "  return count_dict\n",
    "\n",
    "\n",
    "def create_profile_dict(dna_list, k, t):\n",
    "  count_dict = create_count_dict(dna_list, k)\n",
    "  return {key: [val/t for val in count_dict[key]] for key in count_dict}\n",
    "\n",
    "def calculate_score(motif_list, k, t):\n",
    "  return sum(t-Counter(get_column(motif_list, col_num = i)).most_common(1)[0][1] for i in range(k))\n",
    "\n",
    "################################################################################\n",
    "\n",
    "\n",
    "def greedy_motif_search(dna_list, k, t):\n",
    "  best_motif_list = [dna[:k] for dna in dna_list]\n",
    "  \n",
    "\n",
    "  for kmer in kmer_list(dna_list[0], k):\n",
    "    cur_motif_list = [kmer]\n",
    "\n",
    "    for i in range(1,t):\n",
    "      profile_dict = create_profile_dict(cur_motif_list, k, t)\n",
    "      cur_motif_list.append(profile_most_probable_kmer(dna_list[i], k,  profile_dict))\n",
    "\n",
    "    if  calculate_score(cur_motif_list, k, t) < calculate_score(best_motif_list, k, t):\n",
    "      best_motif_list = cur_motif_list\n",
    "\n",
    "\n",
    "  return \"\\n\".join(best_motif_list)\n"
   ]
  },
  {
   "cell_type": "code",
   "execution_count": null,
   "metadata": {
    "colab": {
     "base_uri": "https://localhost:8080/"
    },
    "id": "fAOOsUMM1jVB",
    "outputId": "377ca1d5-7422-46af-93ab-25c6439ab085"
   },
   "outputs": [
    {
     "name": "stdout",
     "output_type": "stream",
     "text": [
      "CAG\n",
      "CAG\n",
      "CAA\n",
      "CAA\n",
      "CAA\n"
     ]
    }
   ],
   "source": [
    "# DRIVER CODE\n",
    "dna1= \"GGCGTTCAGGCA\"\n",
    "dna2= \"AAGAATCAGTCA\"\n",
    "dna3= \"CAAGGAGTTCGC\"\n",
    "dna4= \"CACGTCAATCAC\"\n",
    "dna5= \"CAATAATATTCG\"\n",
    "\n",
    "k, t = 3, 5\n",
    "dna_list = [dna1, dna2, dna3, dna4, dna5]\n",
    "\n",
    "print(greedy_motif_search(dna_list, k, t))"
   ]
  },
  {
   "cell_type": "markdown",
   "metadata": {
    "id": "9KX64cYRLQWE"
   },
   "source": [
    "<hr>"
   ]
  },
  {
   "cell_type": "markdown",
   "metadata": {
    "id": "ubb9y0riga9t"
   },
   "source": [
    "# BA2E - <u> Implement GreedyMotifSearch with Pseudocounts"
   ]
  },
  {
   "cell_type": "code",
   "execution_count": null,
   "metadata": {
    "id": "YgvGPQzBggoe"
   },
   "outputs": [],
   "source": [
    "############################################### HELPER FUNCTIONS #################################\n",
    "from collections import defaultdict, Counter\n",
    "import numpy as np\n",
    "\n",
    "def kmer_list(dna, k):\n",
    "  return [dna[i:i+k] for i in range(len(dna)-k+1)]\n",
    "\n",
    "def calculate_probabilty(kmer, profile_dict):\n",
    "  return np.prod([profile_dict[nucleotide][i] for i, nucleotide in enumerate(kmer)])\n",
    "\n",
    "def profile_most_probable_kmer(text, k, profile_dict):\n",
    "  return max([(calculate_probabilty(kmer, profile_dict), kmer) for kmer in kmer_list(text, k)], key =lambda item : item[0])[1]\n",
    "\n",
    "def get_column(dna_list, col_num=0):\n",
    "  return [dna[col_num] for dna in dna_list]\n",
    "\n",
    "def create_pseudocount_dict(dna_list):\n",
    "  nucleotides = 'ACGT'\n",
    "  count_dict = defaultdict(list)\n",
    "\n",
    "  for i in range(len(dna_list[0])):\n",
    "      column = get_column(dna_list, col_num = i)\n",
    "\n",
    "      for n in nucleotides:\n",
    "        count_dict[n].append(column.count(n) + 1)\n",
    "  \n",
    "  return count_dict\n",
    "\n",
    "\n",
    "def create_profile_dict(dna_list):\n",
    "  count_dict = create_pseudocount_dict(dna_list)\n",
    "  ln = len(dna_list)\n",
    "  return {key: [val/(ln+4) for val in count_dict[key]] for key in count_dict}\n",
    "\n",
    "def calculate_score(motif_list, k, t):\n",
    "  return sum(t-Counter(get_column(motif_list, col_num = i)).most_common(1)[0][1] for i in range(k))\n",
    "\n",
    "################################################################################\n",
    "\n",
    "\n",
    "def greedy_motif_search_with_pseudo(dna_list, k, t):\n",
    "  best_motif_list = [dna[:k] for dna in dna_list]\n",
    "  \n",
    "  for kmer in kmer_list(dna_list[0], k):\n",
    "    cur_motif_list = [kmer]\n",
    "\n",
    "    for i in range(1,t):\n",
    "      profile_dict = create_profile_dict(cur_motif_list)\n",
    "      cur_motif_list.append(profile_most_probable_kmer(dna_list[i], k,  profile_dict))\n",
    "\n",
    "    if  calculate_score(cur_motif_list, k, t) < calculate_score(best_motif_list, k, t):\n",
    "      best_motif_list = cur_motif_list\n",
    "\n",
    "\n",
    "  return \"\\n\".join(best_motif_list)\n"
   ]
  },
  {
   "cell_type": "code",
   "execution_count": null,
   "metadata": {
    "colab": {
     "base_uri": "https://localhost:8080/"
    },
    "id": "Sk4qCJDqiGtI",
    "outputId": "87cadc1f-654f-46aa-cfdb-e7da9470f4f3"
   },
   "outputs": [
    {
     "name": "stdout",
     "output_type": "stream",
     "text": [
      "TTC\n",
      "ATC\n",
      "TTC\n",
      "ATC\n",
      "TTC\n"
     ]
    }
   ],
   "source": [
    "# DRIVER CODE\n",
    "dna1= \"GGCGTTCAGGCA\"\n",
    "dna2= \"AAGAATCAGTCA\"\n",
    "dna3= \"CAAGGAGTTCGC\"\n",
    "dna4= \"CACGTCAATCAC\"\n",
    "dna5= \"CAATAATATTCG\"\n",
    "\n",
    "k, t = 3, 5\n",
    "dna_list = [dna1, dna2, dna3, dna4, dna5]\n",
    "\n",
    "\n",
    "print(greedy_motif_search_with_pseudo(dna_list, k, t))"
   ]
  },
  {
   "cell_type": "markdown",
   "metadata": {
    "id": "k8327Fw9LUt5"
   },
   "source": [
    "<hr>"
   ]
  },
  {
   "cell_type": "markdown",
   "metadata": {
    "id": "b6kGfbe5l16E"
   },
   "source": [
    "# BA2F - <u> Implement RandomizedMotifSearch\n"
   ]
  },
  {
   "cell_type": "code",
   "execution_count": 26,
   "metadata": {
    "id": "x-9DKIn6l9TC"
   },
   "outputs": [],
   "source": [
    "############################################### HELPER FUNCTIONS #################################\n",
    "from collections import defaultdict, Counter\n",
    "import numpy as np\n",
    "import random\n",
    "\n",
    "def select_motifs_random(dna_list, k):\n",
    "  ln = len(dna_list[0])\n",
    "\n",
    "  return [ dna[random:random+k] for dna,random in zip(dna_list, [random.randint(0, ln-k) for _ in dna_list])]\n",
    "\n",
    "def kmer_list(dna, k):\n",
    "  return [dna[i:i+k] for i in range(len(dna)-k+1)]\n",
    "\n",
    "def calculate_probabilty(kmer, profile_dict):\n",
    "  return np.prod([profile_dict[nucleotide][i] for i, nucleotide in enumerate(kmer)])\n",
    "\n",
    "def profile_most_probable_kmer(text, k, profile_dict):\n",
    "  return max([(calculate_probabilty(kmer, profile_dict), kmer) for kmer in kmer_list(text, k)], key =lambda item : item[0])[1]\n",
    "\n",
    "def get_column(dna_list, col_num=0):\n",
    "  return [dna[col_num] for dna in dna_list]\n",
    "\n",
    "def create_pseudocount_dict(dna_list):\n",
    "  nucleotides = 'ACGT'\n",
    "  count_dict = defaultdict(list)\n",
    "\n",
    "  for i in range(len(dna_list[0])):\n",
    "      column = get_column(dna_list, col_num = i)\n",
    "\n",
    "      for n in nucleotides:\n",
    "        count_dict[n].append(column.count(n) + 1)\n",
    "  \n",
    "  return count_dict\n",
    "\n",
    "\n",
    "def create_profile_dict(dna_list):\n",
    "  count_dict = create_pseudocount_dict(dna_list)\n",
    "  ln = len(dna_list)\n",
    "  return {key: [val/(ln+4) for val in count_dict[key]] for key in count_dict}\n",
    "\n",
    "def calculate_score(motif_list, k, t):\n",
    "  return sum(t-Counter(get_column(motif_list, col_num = i)).most_common(1)[0][1] for i in range(k))\n",
    "\n",
    "################################################################################\n",
    "\n",
    "\n",
    "def randomized_motif_search_with_pseudo(dna_list, k, t):\n",
    "  best_motif_list = select_motifs_random(dna_list, k)\n",
    "  best_motif_score = calculate_score(best_motif_list, k, t)\n",
    "\n",
    "  while True:\n",
    "    profile_dict = create_profile_dict(best_motif_list)\n",
    "    cur_motif_list = [profile_most_probable_kmer(dna, k,  profile_dict) for dna in dna_list]\n",
    "\n",
    "    cur_motif_score = calculate_score(cur_motif_list, k, t)\n",
    "    \n",
    "    if cur_motif_score < best_motif_score:\n",
    "      best_motif_list = cur_motif_list\n",
    "      best_motif_score = cur_motif_score\n",
    "    else:\n",
    "      break\n",
    "\n",
    "  return (\"\\n\".join(best_motif_list), best_motif_score)\n",
    "\n",
    "\n"
   ]
  },
  {
   "cell_type": "code",
   "execution_count": 37,
   "metadata": {
    "colab": {
     "base_uri": "https://localhost:8080/"
    },
    "id": "7hEzykMEnZvO",
    "outputId": "3223c53d-0bb3-469d-d000-0e50a4609a59"
   },
   "outputs": [
    {
     "name": "stdout",
     "output_type": "stream",
     "text": [
      "TCTCGGGG\n",
      "CCAAGGTG\n",
      "TACAGGCG\n",
      "TTCAGGTG\n",
      "TCCACGTG\n",
      "9\n"
     ]
    }
   ],
   "source": [
    "k,t = 8, 5\n",
    "dna_1 ='CGCCCCTCTCGGGGGTGTTCAGTAAACGGCCA'\n",
    "dna_2 = 'GGGCGAGGTATGTGTAAGTGCCAAGGTGCCAG'\n",
    "dna_3 = 'TAGTACCGAGACCGAAAGAAGTATACAGGCGT'\n",
    "dna_4 ='TAGATCAAGTTTCAGGTGCACGTCGGTGAACC'\n",
    "dna_5 ='AATCCACCAGCTCCACGTGCAATGTTGGCCTA'\n",
    "\n",
    "dna_list = [dna_1, dna_2, dna_3, dna_4, dna_5]\n",
    "\n",
    "best_motifs, best_score = None, 7000\n",
    "\n",
    "for i in range(1000):\n",
    "  cur_motifs , cur_score = randomized_motif_search_with_pseudo(dna_list, k, t)\n",
    "\n",
    "  if cur_score < best_score:\n",
    "    best_motifs = cur_motifs\n",
    "    best_score = cur_score\n",
    "\n",
    "print(best_motifs)\n",
    "print(best_score)"
   ]
  },
  {
   "cell_type": "markdown",
   "metadata": {
    "id": "rzx929eMLZDq"
   },
   "source": [
    "<hr>"
   ]
  },
  {
   "cell_type": "markdown",
   "metadata": {
    "id": "VhvDEb6oMexq"
   },
   "source": [
    "# BA2G - <u> Implement GibbsSampler\n"
   ]
  },
  {
   "cell_type": "code",
   "execution_count": 34,
   "metadata": {
    "id": "B09__78mM2LC"
   },
   "outputs": [],
   "source": [
    "############################################### HELPER FUNCTIONS #################################\n",
    "from collections import defaultdict, Counter\n",
    "import numpy as np\n",
    "import random\n",
    "\n",
    "def select_motifs_random(dna_list, k):\n",
    "  ln = len(dna_list[0])\n",
    "\n",
    "  return [ dna[random:random+k] for dna,random in zip(dna_list, [random.randint(0, ln-k) for _ in dna_list])]\n",
    "\n",
    "def kmer_list(dna, k):\n",
    "  return [dna[i:i+k] for i in range(len(dna)-k+1)]\n",
    "\n",
    "def calculate_probabilty(kmer, profile_dict):\n",
    "  return np.prod([profile_dict[nucleotide][i] for i, nucleotide in enumerate(kmer)])\n",
    "\n",
    "def profile_randomly_generated_kmer(dna, k, profile_dict):\n",
    "  kmers = kmer_list(dna, k)\n",
    "  probability_distribution = [calculate_probabilty(kmer, profile_dict) for kmer in kmers]\n",
    "\n",
    "\n",
    "  return random.choices( population = kmers, weights=probability_distribution, k=1)[0]\n",
    "\n",
    "def get_column(dna_list, col_num=0):\n",
    "  return [dna[col_num] for dna in dna_list]\n",
    "\n",
    "def create_pseudocount_dict(dna_list):\n",
    "  nucleotides = 'ACGT'\n",
    "  count_dict = defaultdict(list)\n",
    "\n",
    "  for i in range(len(dna_list[0])):\n",
    "      column = get_column(dna_list, col_num = i)\n",
    "\n",
    "      for n in nucleotides:\n",
    "        count_dict[n].append(column.count(n) + 1)\n",
    "  \n",
    "  return count_dict\n",
    "\n",
    "\n",
    "def create_profile_dict(dna_list):\n",
    "  count_dict = create_pseudocount_dict(dna_list)\n",
    "  ln = len(dna_list)\n",
    "  return {key: [val/(ln+4) for val in count_dict[key]] for key in count_dict}\n",
    "\n",
    "def calculate_score(motif_list, k, t):\n",
    "  return sum(t-Counter(get_column(motif_list, col_num = i)).most_common(1)[0][1] for i in range(k))\n",
    "\n",
    "################################################################################\n",
    "\n",
    "def gibbssampler_motif_search_with_pseudo(dna_list, k, t, N):\n",
    "  best_motif_list = select_motifs_random(dna_list, k)\n",
    "  best_motif_list_score = calculate_score(best_motif_list, k, t)\n",
    "  \n",
    "  for j in range(N):\n",
    "    i = random.randint(0,t-1)\n",
    "\n",
    "    profile_dict = create_profile_dict([best_motif_list[idx] for idx in range(t) if idx != i])\n",
    "\n",
    "    cur_motif_list = [motif for motif in best_motif_list]\n",
    "    cur_motif_list[i] = profile_randomly_generated_kmer(dna_list[i],k, profile_dict)\n",
    "    cur_motif_list_score = calculate_score(cur_motif_list, k, t)\n",
    "\n",
    "    \n",
    "    if cur_motif_list_score < best_motif_list_score:\n",
    "      best_motif_list = cur_motif_list\n",
    "      best_motif_list_score = cur_motif_list_score\n",
    "\n",
    "  return (\"\\n\".join(best_motif_list), best_motif_list_score)\n"
   ]
  },
  {
   "cell_type": "code",
   "execution_count": 35,
   "metadata": {
    "colab": {
     "base_uri": "https://localhost:8080/"
    },
    "id": "CLf4wYAPJBnN",
    "outputId": "fa2b64c2-3bff-4eb6-e245-fbe044ec531f"
   },
   "outputs": [
    {
     "name": "stdout",
     "output_type": "stream",
     "text": [
      "TCTCGGGG\n",
      "CCAAGGTG\n",
      "TACAGGCG\n",
      "TTCAGGTG\n",
      "TCCACGTG\n",
      "9\n"
     ]
    }
   ],
   "source": [
    "# DRIVER CODE\n",
    "\n",
    "k, t, N = 8, 5, 100\n",
    "dna_1 = 'CGCCCCTCTCGGGGGTGTTCAGTAAACGGCCA'\n",
    "dna_2 ='GGGCGAGGTATGTGTAAGTGCCAAGGTGCCAG'\n",
    "dna_3 ='TAGTACCGAGACCGAAAGAAGTATACAGGCGT'\n",
    "dna_4 ='TAGATCAAGTTTCAGGTGCACGTCGGTGAACC'\n",
    "dna_5 = 'AATCCACCAGCTCCACGTGCAATGTTGGCCTA'\n",
    "\n",
    "dna_list = [dna_1, dna_2, dna_3, dna_4, dna_5]\n",
    "\n",
    "best_motifs, best_score = None, 10000\n",
    "\n",
    "for i in range(60):\n",
    "  cur_motifs , cur_score =gibbssampler_motif_search_with_pseudo(dna_list, k, t, N)\n",
    "\n",
    "  if cur_score < best_score:\n",
    "    best_motifs = cur_motifs\n",
    "    best_score = cur_score\n",
    "\n",
    "print(best_motifs)\n",
    "print(best_score)"
   ]
  },
  {
   "cell_type": "markdown",
   "metadata": {
    "id": "yze9orrYLg4I"
   },
   "source": [
    "<hr>"
   ]
  },
  {
   "cell_type": "markdown",
   "metadata": {
    "id": "EL1TnUSBHMiA"
   },
   "source": [
    "# BA2H - <u> Implement DistanceBetweenPatternAndStrings"
   ]
  },
  {
   "cell_type": "code",
   "execution_count": 40,
   "metadata": {
    "id": "0WavSOhNH9Uc"
   },
   "outputs": [],
   "source": [
    "################################ HELPER FUNCTIONS #####################################\n",
    "import itertools\n",
    "\n",
    "def hamming_dist(kmer1, kmer2):\n",
    "  return sum(i!=j for i,j in zip(kmer1,kmer2))\n",
    "\n",
    "def kmer_set(dna, k):\n",
    "  return {dna[i:i+k]for i in range(len(dna)-k+1)}\n",
    "  \n",
    "def min_dist_with_single_string(pattern, dna):\n",
    "  return min(hamming_dist(pattern, kmer) for kmer in kmer_set(dna, len(pattern)))\n",
    "\n",
    "########################################################################################\n",
    "\n",
    "def dist_between_pattern_and_strings(pattern, string_list):\n",
    "  return sum(min_dist_with_single_string(pattern, string) for string in string_list)"
   ]
  },
  {
   "cell_type": "code",
   "execution_count": 41,
   "metadata": {
    "colab": {
     "base_uri": "https://localhost:8080/"
    },
    "id": "JJIpqjJ9IeOx",
    "outputId": "91719c0d-a9f9-46ca-9180-4173b5ab8cd3"
   },
   "outputs": [
    {
     "data": {
      "text/plain": [
       "5"
      ]
     },
     "execution_count": 41,
     "metadata": {},
     "output_type": "execute_result"
    }
   ],
   "source": [
    "# DRIVER CODE\n",
    "pattern = 'AAA'\n",
    "string_list = ['TTACCTTAAC', 'GATATCTGTC', 'ACGGCGTTCG', 'CCCTAAAGAG', 'CGTCAGAGGT']\n",
    "\n",
    "\n",
    "min_score_from_all_dna(pattern , string_list)"
   ]
  },
  {
   "cell_type": "markdown",
   "metadata": {
    "id": "a-smFMCaLjkM"
   },
   "source": [
    "<hr>"
   ]
  }
 ],
 "metadata": {
  "colab": {
   "collapsed_sections": [],
   "provenance": []
  },
  "kernelspec": {
   "display_name": "Python 3 (ipykernel)",
   "language": "python",
   "name": "python3"
  },
  "language_info": {
   "codemirror_mode": {
    "name": "ipython",
    "version": 3
   },
   "file_extension": ".py",
   "mimetype": "text/x-python",
   "name": "python",
   "nbconvert_exporter": "python",
   "pygments_lexer": "ipython3",
   "version": "3.10.1"
  }
 },
 "nbformat": 4,
 "nbformat_minor": 1
}
