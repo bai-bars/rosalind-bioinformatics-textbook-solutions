{
  "nbformat": 4,
  "nbformat_minor": 0,
  "metadata": {
    "colab": {
      "provenance": []
    },
    "kernelspec": {
      "name": "python3",
      "display_name": "Python 3"
    },
    "language_info": {
      "name": "python"
    }
  },
  "cells": [
    {
      "cell_type": "markdown",
      "source": [
        "# BA3A - <u> Generate the k-mer Composition of a String"
      ],
      "metadata": {
        "id": "Pf5JGw8EF1DT"
      }
    },
    {
      "cell_type": "code",
      "execution_count": null,
      "metadata": {
        "id": "ctPDJ7rUFXZn"
      },
      "outputs": [],
      "source": [
        "def generate_kmer_from_string(k, text):\n",
        "  kmer_list = []\n",
        "\n",
        "  for i in range(len(text)-k+1):\n",
        "    kmer_list.append(text[i:i+k])\n",
        "\n",
        "  kmer_list.sort()\n",
        "\n",
        "  return '\\n'.join(kmer_list)\n",
        "\n",
        "######################################### MORE PYTHONIC #######################\n",
        "\n",
        "def generate_kmer_from_string_short(k, text):\n",
        "  return '\\n'.join(sorted(text[i:i+k] for i in range(len(text)-k+1)))"
      ]
    },
    {
      "cell_type": "code",
      "source": [
        "# DRIVER CODE\n",
        "text = \"CAATCCAAC\"\n",
        "k = 5\n",
        "\n",
        "print(generate_kmer_from_string_short(k, text))"
      ],
      "metadata": {
        "colab": {
          "base_uri": "https://localhost:8080/"
        },
        "id": "zzbMXN73GNKJ",
        "outputId": "a5800076-1774-4f8a-aba6-5459f88b8041"
      },
      "execution_count": null,
      "outputs": [
        {
          "output_type": "stream",
          "name": "stdout",
          "text": [
            "AATCC\n",
            "ATCCA\n",
            "CAATC\n",
            "CCAAC\n",
            "TCCAA\n"
          ]
        }
      ]
    },
    {
      "cell_type": "markdown",
      "source": [
        "<hr>"
      ],
      "metadata": {
        "id": "Se9J0WzD2YZ8"
      }
    },
    {
      "cell_type": "markdown",
      "source": [
        "# BA3B - <u> Reconstruct a String from its Genome Path"
      ],
      "metadata": {
        "id": "rFcYZbDkLZAB"
      }
    },
    {
      "cell_type": "code",
      "source": [
        "def reconstruct_string(kmer_list):\n",
        "  final_string = kmer_list[0]\n",
        "  ln = len(kmer_list)\n",
        "\n",
        "  for i in range(1,ln):\n",
        "    final_string += kmer_list[i][-1]\n",
        "\n",
        "  return final_string\n",
        "\n",
        "\n",
        "######################################### MORE PYTHONIC #######################\n",
        "\n",
        "def reconstruct_string_short(kmer_list):\n",
        "  return kmer_list[0] + ''.join([kmer[-1] for kmer in kmer_list])"
      ],
      "metadata": {
        "id": "t0hlNfolLmVu"
      },
      "execution_count": null,
      "outputs": []
    },
    {
      "cell_type": "code",
      "source": [
        "# DRIVER CODE\n",
        "kmer_list = ['ACCGA', 'CCGAA', 'CGAAG' , 'GAAGC', 'AAGCT']\n",
        "\n",
        "reconstruct_string_short(kmer_list)"
      ],
      "metadata": {
        "colab": {
          "base_uri": "https://localhost:8080/",
          "height": 35
        },
        "id": "h63zELc0OEKM",
        "outputId": "e08c6741-d35e-4b90-9690-ff9a89118bf8"
      },
      "execution_count": null,
      "outputs": [
        {
          "output_type": "execute_result",
          "data": {
            "text/plain": [
              "'ACCGAAAGCT'"
            ],
            "application/vnd.google.colaboratory.intrinsic+json": {
              "type": "string"
            }
          },
          "metadata": {},
          "execution_count": 14
        }
      ]
    },
    {
      "cell_type": "markdown",
      "source": [
        "<hr>"
      ],
      "metadata": {
        "id": "JkmUbM142Urp"
      }
    },
    {
      "cell_type": "markdown",
      "source": [
        "# BA3C - <u> Construct the Overlap Graph of a Collection of k-mers"
      ],
      "metadata": {
        "id": "veaeCfdt7Hzj"
      }
    },
    {
      "cell_type": "code",
      "source": [
        "from collections import defaultdict\n",
        "\n",
        "def construct_overlap_graph(kmer_patterns):\n",
        "  graph = defaultdict(list)\n",
        "\n",
        "  for kmer1 in kmer_patterns:\n",
        "    pref = kmer1[1:]\n",
        "    for kmer2 in kmer_patterns:\n",
        "      suf = kmer2[:-1]\n",
        "\n",
        "      if pref == suf:\n",
        "        graph[kmer1].append(kmer2)\n",
        "\n",
        "  return  '\\n'.join([f\"{key} -> {','.join(sorted(graph[key]))}\"  for key in sorted(graph)])\n",
        "\n",
        "################################# MORE PYTHONIC #########################################\n",
        "\n",
        "def construct_overlap_graph_short(kmer_patterns):\n",
        "  graph = {kmer1 : kmer2 for kmer2 in kmer_patterns for kmer1 in kmer_patterns if kmer1[1:] == kmer2[:-1]}\n",
        "\n",
        "  return  '\\n'.join([f\"{key} -> {graph[key]}\"  for key in sorted(graph)])"
      ],
      "metadata": {
        "id": "yrDINrN77KBp"
      },
      "execution_count": null,
      "outputs": []
    },
    {
      "cell_type": "code",
      "source": [
        "# DRIVER CODE\n",
        "kmer_patterns =  ['ATGCG','GCATG','CATGC','AGGCA','GGCAT']\n",
        "\n",
        "print(construct_overlap_graph(kmer_patterns))"
      ],
      "metadata": {
        "colab": {
          "base_uri": "https://localhost:8080/"
        },
        "id": "1jW0hZab8M59",
        "outputId": "cb4d8f76-6331-4f4e-8d83-83e5b88583c7"
      },
      "execution_count": null,
      "outputs": [
        {
          "output_type": "stream",
          "name": "stdout",
          "text": [
            "AGGCA -> GGCAT\n",
            "CATGC -> ATGCG\n",
            "GCATG -> CATGC\n",
            "GGCAT -> GCATG\n"
          ]
        }
      ]
    },
    {
      "cell_type": "markdown",
      "source": [
        "<hr>"
      ],
      "metadata": {
        "id": "cCn5HD8Y2RE6"
      }
    },
    {
      "cell_type": "markdown",
      "source": [
        "# BA3D - <u> Construct the De Bruijn Graph of a String"
      ],
      "metadata": {
        "id": "rZnmdNuMD2yY"
      }
    },
    {
      "cell_type": "code",
      "source": [
        "from collections import defaultdict\n",
        "\n",
        "############################  HELPER ############################\n",
        "def generate_kmers(k, text):\n",
        "  return [text[i:i+k] for i in range(len(text)-k+1)]\n",
        "################################################################\n",
        "\n",
        "def de_bruijn_graph_from_string(k, text):\n",
        "  graph = defaultdict(list)\n",
        "  kmer_list = generate_kmers(k, text)\n",
        "\n",
        "  for kmer in kmer_list:\n",
        "    pref = kmer[:-1]\n",
        "    suf = kmer[1:]\n",
        "    graph[pref].append(suf)\n",
        "\n",
        "  return '\\n'.join([f\"{key} ---> {','.join(sorted(graph[key]))} \" for key in sorted(graph)])\n",
        "\n",
        "\n",
        "\n",
        "# ============================== MORE PYTHONIC ===========================\n",
        "\n",
        "def de_bruijn_graph_from_string_short(k, text):\n",
        "  graph = defaultdict(list)\n",
        "\n",
        "  for kmer in generate_kmers(k, text):\n",
        "    graph[kmer[:-1]].append(kmer[1:])\n",
        "\n",
        "  return '\\n'.join([f\"{key} ---> {','.join(sorted(graph[key]))} \" for key in sorted(graph)])"
      ],
      "metadata": {
        "id": "MaqN5gZuHfui"
      },
      "execution_count": null,
      "outputs": []
    },
    {
      "cell_type": "code",
      "source": [
        "# DRIVER CODE\n",
        "k = 4\n",
        "string = 'AAGATTCTCTAC'\n",
        "\n",
        "print(de_bruijn_graph_from_string_short(4, string))"
      ],
      "metadata": {
        "colab": {
          "base_uri": "https://localhost:8080/"
        },
        "id": "OxNAasOQHm6i",
        "outputId": "ff0a05be-e4c6-49d9-fb4f-762bc20dd5e9"
      },
      "execution_count": null,
      "outputs": [
        {
          "output_type": "stream",
          "name": "stdout",
          "text": [
            "AAG ---> AGA \n",
            "AGA ---> GAT \n",
            "ATT ---> TTC \n",
            "CTA ---> TAC \n",
            "CTC ---> TCT \n",
            "GAT ---> ATT \n",
            "TCT ---> CTA,CTC \n",
            "TTC ---> TCT \n"
          ]
        }
      ]
    },
    {
      "cell_type": "markdown",
      "source": [
        "<hr>"
      ],
      "metadata": {
        "id": "07hGyMQF2OJm"
      }
    },
    {
      "cell_type": "markdown",
      "source": [
        "# BA3E - <u> Construct the De Bruijn Graph of a Collection of k-mers"
      ],
      "metadata": {
        "id": "hbJK6faCKgf0"
      }
    },
    {
      "cell_type": "code",
      "source": [
        "from collections import defaultdict\n",
        "\n",
        "def prefix_suffix(kmer):\n",
        "  return (kmer[:-1],kmer[1:])\n",
        "\n",
        "def de_bruin_from_kmers(kmer_list):\n",
        "  graph = defaultdict(list)\n",
        "\n",
        "  for kmer in kmer_list:\n",
        "    pref, suf = prefix_suffix(kmer)\n",
        "    graph[pref].append(suf)\n",
        "\n",
        "  return '\\n'.join([f\"{key} ---> {','.join(sorted(graph[key]))} \" for key in sorted(graph)])"
      ],
      "metadata": {
        "id": "tPssy6noKx0K"
      },
      "execution_count": null,
      "outputs": []
    },
    {
      "cell_type": "code",
      "source": [
        "# DRIVER CODE\n",
        "kmer_list = ['GAGG','CAGG','GGGG','GGGA','CAGG','AGGG','GGAG']\n",
        "\n",
        "print(de_bruin_from_kmers(kmer_list))"
      ],
      "metadata": {
        "colab": {
          "base_uri": "https://localhost:8080/"
        },
        "id": "99yfXqB1K80w",
        "outputId": "89c5b850-b36d-4cac-bc56-9f2b1773ed56"
      },
      "execution_count": null,
      "outputs": [
        {
          "output_type": "stream",
          "name": "stdout",
          "text": [
            "AGG ---> GGG \n",
            "CAG ---> AGG,AGG \n",
            "GAG ---> AGG \n",
            "GGA ---> GAG \n",
            "GGG ---> GGA,GGG \n"
          ]
        }
      ]
    },
    {
      "cell_type": "markdown",
      "source": [
        "<hr>"
      ],
      "metadata": {
        "id": "y3uM545N2KpZ"
      }
    },
    {
      "cell_type": "markdown",
      "source": [
        "# BA3F - <u> Find an Eulerian Cycle in a Graph"
      ],
      "metadata": {
        "id": "Q3nrweeYdA2f"
      }
    },
    {
      "cell_type": "code",
      "source": [
        "import random as rd\n",
        "import copy\n",
        "\n",
        "def euler_cycle(graph, start=None):\n",
        "  graph = copy.deepcopy(graph)\n",
        "  tour = []\n",
        " \n",
        "  def cycle(n):\n",
        "    while len(graph[n]) > 0:\n",
        "      nxt = graph[n].pop()\n",
        "      cycle(nxt)\n",
        " \n",
        "    tour.append(n)\n",
        " \n",
        "  start = rd.choice([*graph.keys()]) if start is None else start\n",
        "  cycle(start)\n",
        "\n",
        "  return '->'.join(str(i) for i in tour[: : -1])\n",
        "\n",
        "\n",
        "# USING STACK\n",
        "def euler_cycle_using_stack(graph, start=None):\n",
        "  tour = []\n",
        "  stack = []\n",
        "\n",
        "  start = rd.choice([*graph.keys()]) if start is None else start\n",
        "\n",
        "  stack.append(start)\n",
        "  nxt = start\n",
        "  \n",
        "  while True:\n",
        "    if graph[nxt]:\n",
        "      nxt = graph[nxt].pop()\n",
        "      stack.append(nxt)\n",
        "    else:\n",
        "      cur = stack.pop()\n",
        "      tour.append(cur)\n",
        "\n",
        "      if stack:\n",
        "        nxt = stack[-1]\n",
        "      else:\n",
        "        break\n",
        "\n",
        "\n",
        "  return '->'.join(str(i) for i in tour[: : -1])"
      ],
      "metadata": {
        "id": "Mnas4O8ydGxP"
      },
      "execution_count": null,
      "outputs": []
    },
    {
      "cell_type": "code",
      "source": [
        "########################### INPUT TO GRAPH CONVERT ##########################\n",
        "def create_graph(inp):\n",
        "  graph = {}\n",
        "\n",
        "  for line in inp.split('\\n'):\n",
        "    start, end = line.split(' -> ')\n",
        "    graph[start.strip()] = [j.strip() for j in end.split(',')]\n",
        "  \n",
        "  return graph\n",
        "#############################################################################\n",
        "\n",
        "\n",
        "# DRIVER CODE\n",
        "inp = '''0 -> 3\n",
        "         1 -> 0\n",
        "         2 -> 1,6\n",
        "         3 -> 2\n",
        "         4 -> 2\n",
        "         5 -> 4\n",
        "         6 -> 5,8\n",
        "         7 -> 9\n",
        "         8 -> 7\n",
        "         9 -> 6'''\n",
        "\n",
        "\n",
        "graph = create_graph(inp)\n",
        "print(euler_cycle(graph, start= '6'))\n",
        "\n",
        "graph = create_graph(inp)\n",
        "print(euler_cycle_using_stack(graph, start= '6'))"
      ],
      "metadata": {
        "colab": {
          "base_uri": "https://localhost:8080/"
        },
        "id": "ZSCjL-q7fuwZ",
        "outputId": "b3f159ea-b7c4-49ed-808d-78cec9072977"
      },
      "execution_count": null,
      "outputs": [
        {
          "output_type": "stream",
          "name": "stdout",
          "text": [
            "6->8->7->9->6->5->4->2->1->0->3->2->6\n",
            "6->8->7->9->6->5->4->2->1->0->3->2->6\n"
          ]
        }
      ]
    },
    {
      "cell_type": "markdown",
      "source": [
        "<hr>"
      ],
      "metadata": {
        "id": "TmKDC9LZ2Fk0"
      }
    },
    {
      "cell_type": "markdown",
      "source": [
        "# BA3G - <u> Find an Eulerian Path in a Graph"
      ],
      "metadata": {
        "id": "TVVF6WTqpGSK"
      }
    },
    {
      "cell_type": "code",
      "source": [
        "import random as rd \n",
        "import copy\n",
        "from collections import defaultdict\n",
        "\n",
        "############################################# HELPER FUNCTIONS ########################################################\n",
        "def start_end_of_euler_path(graph):\n",
        "  start, end =  None, None\n",
        "\n",
        "  outgoing_counter = defaultdict(int)\n",
        "  ingoing_counter = defaultdict(int)\n",
        "\n",
        "  for u in graph.keys():\n",
        "    outgoing_counter[u] = len(graph[u])\n",
        "\n",
        "    for v in graph[u]:\n",
        "      ingoing_counter[v] += 1\n",
        "\n",
        "  nodes = {*outgoing_counter.keys(), *ingoing_counter.keys()}\n",
        "  \n",
        "  for node in nodes:\n",
        "    if outgoing_counter[node]-ingoing_counter[node] > 0:\n",
        "      start = node\n",
        "    elif outgoing_counter[node]-ingoing_counter[node] < 0:\n",
        "      end = node\n",
        "\n",
        "  return (start, end)\n",
        "\n",
        "\n",
        "\n",
        "def add_edge(u, v, graph):\n",
        "  graph[u].append(v)\n",
        "\n",
        "\n",
        "\n",
        "def euler_cycle(graph, start=None):\n",
        "  tour = []\n",
        "  graph = copy.deepcopy(graph)\n",
        " \n",
        "  def cycle(n):\n",
        "    while len(graph[n]) > 0:\n",
        "      nxt = graph[n].pop()\n",
        "      cycle(nxt)\n",
        " \n",
        "    tour.append(n)\n",
        " \n",
        "  start = rd.choice([*graph.keys()]) if start is None else start\n",
        "  cycle(start)\n",
        "\n",
        "  return tour[::-1]\n",
        "\n",
        "###########################################################################################################################\n",
        "\n",
        "\n",
        "def euler_path(graph):\n",
        "  start, end = start_end_of_euler_path(graph)\n",
        "  add_edge(end, start, graph)\n",
        "\n",
        "  paths = euler_cycle(graph, start)[:-1]\n",
        "  return '->'.join(str(i) for i in paths)"
      ],
      "metadata": {
        "id": "yjxaOfXepKPy"
      },
      "execution_count": null,
      "outputs": []
    },
    {
      "cell_type": "code",
      "source": [
        "from collections import defaultdict\n",
        "\n",
        "########################### INPUT TO GRAPH CONVERT ##########################\n",
        "def create_graph(inp):\n",
        "  graph = defaultdict(list)\n",
        "\n",
        "  for line in inp.split('\\n'):\n",
        "    start, end = line.split(' -> ')\n",
        "    graph[start.strip()] = [j.strip() for j in end.split(',')]\n",
        "  \n",
        "  return graph\n",
        "#############################################################################\n",
        "\n",
        "\n",
        "inp = '''0 -> 2\n",
        "         1 -> 3\n",
        "         2 -> 1\n",
        "         3 -> 0,4\n",
        "         6 -> 3,7\n",
        "         7 -> 8\n",
        "         8 -> 9\n",
        "         9 -> 6'''\n",
        "\n",
        "\n",
        "graph = create_graph(inp)\n",
        "euler_path(graph)"
      ],
      "metadata": {
        "colab": {
          "base_uri": "https://localhost:8080/",
          "height": 36
        },
        "id": "KUClBACttyjM",
        "outputId": "104347db-cecd-4fe8-ab9e-e88c0220c177"
      },
      "execution_count": null,
      "outputs": [
        {
          "output_type": "execute_result",
          "data": {
            "text/plain": [
              "'6->7->8->9->6->3->0->2->1->3->4'"
            ],
            "application/vnd.google.colaboratory.intrinsic+json": {
              "type": "string"
            }
          },
          "metadata": {},
          "execution_count": 18
        }
      ]
    },
    {
      "cell_type": "markdown",
      "source": [
        "<hr>"
      ],
      "metadata": {
        "id": "OFlrTy38Ng0z"
      }
    },
    {
      "cell_type": "markdown",
      "source": [
        "# BA3H - <u> Reconstruct a String from its k-mer Composition"
      ],
      "metadata": {
        "id": "0aszN7ft1ocg"
      }
    },
    {
      "cell_type": "code",
      "source": [
        "from collections import defaultdict\n",
        "\n",
        "####################################### HELPER FUNCTIONS ############################\n",
        "\n",
        "def prefix_suffix(kmer):\n",
        "  return (kmer[:-1],kmer[1:])\n",
        "\n",
        "\n",
        "def d_bruijn_from_kmers(kmer_list):\n",
        "  graph = defaultdict(list)\n",
        "\n",
        "  for kmer in kmer_list:\n",
        "    pref, suf = prefix_suffix(kmer)\n",
        "    graph[pref].append(suf)\n",
        "\n",
        "  return graph\n",
        "\n",
        "\n",
        "def start_end_of_euler_path(graph):\n",
        "  start, end =  None, None\n",
        "\n",
        "  outgoing_counter = defaultdict(int)\n",
        "  ingoing_counter = defaultdict(int)\n",
        "\n",
        "  for u in graph.keys():\n",
        "    outgoing_counter[u] = len(graph[u])\n",
        "\n",
        "    for v in graph[u]:\n",
        "      ingoing_counter[v] += 1\n",
        "\n",
        "  nodes = {*outgoing_counter.keys(), *ingoing_counter.keys()}\n",
        "  \n",
        "  for node in nodes:\n",
        "    if outgoing_counter[node]-ingoing_counter[node] > 0:\n",
        "      start = node\n",
        "    elif outgoing_counter[node]-ingoing_counter[node] < 0:\n",
        "      end = node\n",
        "\n",
        "  return (start, end)\n",
        "\n",
        "\n",
        "def add_edge(u, v, graph):\n",
        "  graph[u].append(v)\n",
        "\n",
        "\n",
        "def euler_cycle_using_stack(graph, start=None):\n",
        "  tour = []\n",
        "  stack = []\n",
        "\n",
        "\n",
        "  stack.append(start)\n",
        "  nxt = start\n",
        "  \n",
        "  while True:\n",
        "    if graph[nxt]:\n",
        "      nxt = graph[nxt].pop()\n",
        "      stack.append(nxt)\n",
        "    else:\n",
        "      cur = stack.pop()\n",
        "      tour.append(cur)\n",
        "\n",
        "      if stack:\n",
        "        nxt = stack[-1]\n",
        "      else:\n",
        "        break\n",
        "\n",
        "  return tour[: : -1]\n",
        "\n",
        "def euler_path(graph):\n",
        "  start, end = start_end_of_euler_path(graph)\n",
        "  add_edge(end, start, graph)\n",
        "\n",
        "  paths = euler_cycle_using_stack(graph, start)[:-1]\n",
        "\n",
        "  return paths\n",
        "########################################################################################\n",
        "\n",
        "\n",
        "def reconstruct_string_from_kmers(k, kmer_list):\n",
        "  d_bruijn_graph = d_bruijn_from_kmers(kmer_list)\n",
        "\n",
        "  paths = euler_path(d_bruijn_graph)\n",
        "\n",
        "  return ''.join([paths[0]] + [path[-1] for path in paths[1:]])\n",
        " "
      ],
      "metadata": {
        "id": "mZmPCLik2DRd"
      },
      "execution_count": null,
      "outputs": []
    },
    {
      "cell_type": "code",
      "source": [
        "# DRIVER CODE\n",
        "k = 4\n",
        "kmer_list = ['CTTA','ACCA','TACC','GGCT','GCTT','TTAC']\n",
        "\n",
        "reconstruct_string_from_kmers(k , kmer_list)"
      ],
      "metadata": {
        "colab": {
          "base_uri": "https://localhost:8080/",
          "height": 36
        },
        "id": "hYQ-Rx_4ecUN",
        "outputId": "8ffbc812-c51a-4289-e69c-e0dcedaa5584"
      },
      "execution_count": null,
      "outputs": [
        {
          "output_type": "execute_result",
          "data": {
            "text/plain": [
              "'GGCTTACCA'"
            ],
            "application/vnd.google.colaboratory.intrinsic+json": {
              "type": "string"
            }
          },
          "metadata": {},
          "execution_count": 24
        }
      ]
    },
    {
      "cell_type": "markdown",
      "source": [
        "<hr>"
      ],
      "metadata": {
        "id": "2RBLB6Lp9Pno"
      }
    },
    {
      "cell_type": "markdown",
      "source": [
        "# BA3I - <u> Find a k-Universal Circular String"
      ],
      "metadata": {
        "id": "88yLpjXV9Xtv"
      }
    },
    {
      "cell_type": "code",
      "source": [
        "from itertools import product\n",
        "from collections import defaultdict\n",
        "########################################## HELPER FUNCTIONS #################################\n",
        "def all_combinations(k, choices):\n",
        "  return [''.join(s) for s in product(choices, repeat=k)]\n",
        "\n",
        "\n",
        "def prefix_suffix(txt):\n",
        "  return (txt[:-1],txt[1:])\n",
        "\n",
        "\n",
        "def d_bruijn(text_list):\n",
        "  graph = defaultdict(list)\n",
        "\n",
        "  for text in text_list:\n",
        "    pref, suf = prefix_suffix(text)\n",
        "    graph[pref].append(suf)\n",
        "\n",
        "  return graph\n",
        "\n",
        "\n",
        "def euler_cycle_using_stack(graph, start=None):\n",
        "  tour = []\n",
        "  stack = []\n",
        "\n",
        "  stack.append(start)\n",
        "  nxt = start\n",
        "  \n",
        "  while True:\n",
        "    if graph[nxt]:\n",
        "      nxt = graph[nxt].pop()\n",
        "      stack.append(nxt)\n",
        "    else:\n",
        "      cur = stack.pop()\n",
        "      tour.append(cur)\n",
        "\n",
        "      if stack:\n",
        "        nxt = stack[-1]\n",
        "      else:\n",
        "        break\n",
        "\n",
        "  return tour[::-1]\n",
        "\n",
        "##############################################################################################\n",
        "\n",
        "def k_uni_circular_str(k):\n",
        "  k_combo = all_combinations(k, '01')\n",
        "  graph = d_bruijn(k_combo)\n",
        "  path = euler_cycle_using_stack(graph, start = k_combo[0][:-1])[:-(k-1)]\n",
        "  \n",
        "  circular_path = path[:-(k-1)]\n",
        "\n",
        "  return circular_path[0] + ''.join(path[-1] for path in circular_path[1:])\n"
      ],
      "metadata": {
        "id": "BgQZ7qG89Rbs"
      },
      "execution_count": null,
      "outputs": []
    },
    {
      "cell_type": "code",
      "source": [
        "# DRIVER CODE\n",
        "k = 4\n",
        "\n",
        "k_uni_circular_str(k)"
      ],
      "metadata": {
        "colab": {
          "base_uri": "https://localhost:8080/",
          "height": 36
        },
        "id": "GEAALZ1ZQsvm",
        "outputId": "02bd877f-552a-474c-f7bc-73d6b45fe06d"
      },
      "execution_count": null,
      "outputs": [
        {
          "output_type": "execute_result",
          "data": {
            "text/plain": [
              "'0001111011001'"
            ],
            "application/vnd.google.colaboratory.intrinsic+json": {
              "type": "string"
            }
          },
          "metadata": {},
          "execution_count": 91
        }
      ]
    },
    {
      "cell_type": "markdown",
      "source": [
        "<hr>"
      ],
      "metadata": {
        "id": "zkBuL03zccAz"
      }
    },
    {
      "cell_type": "markdown",
      "source": [
        "# BA3J - <u> Reconstruct a String from its Paired Composition"
      ],
      "metadata": {
        "id": "nTym5XP_fdyk"
      }
    },
    {
      "cell_type": "code",
      "source": [
        "from collections import defaultdict\n",
        "\n",
        "####################################### HELPER FUNCTIONS ############################\n",
        "\n",
        "def paired_prefix_suffix(k, paired_kmer):\n",
        "  prefix = paired_kmer[:k-1] + '|' + paired_kmer[k+1:2*k]\n",
        "  suffix = paired_kmer[1:k] + '|' + paired_kmer[k+2:2*k+1]\n",
        "  return (prefix, suffix)\n",
        "\n",
        "\n",
        "def d_bruijn_from_paired_kmers(k, paired_kmers):\n",
        "  graph = defaultdict(list)\n",
        "\n",
        "  for pair in paired_kmers:\n",
        "    pref, suf = paired_prefix_suffix(k, pair)\n",
        "    graph[pref].append(suf)\n",
        "\n",
        "  return graph\n",
        "\n",
        "\n",
        "def start_end_of_euler_path(graph):\n",
        "  start, end =  None, None\n",
        "\n",
        "  outgoing_counter = defaultdict(int)\n",
        "  ingoing_counter = defaultdict(int)\n",
        "\n",
        "  for u in graph.keys():\n",
        "    outgoing_counter[u] = len(graph[u])\n",
        "\n",
        "    for v in graph[u]:\n",
        "      ingoing_counter[v] += 1\n",
        "\n",
        "  nodes = {*outgoing_counter.keys(), *ingoing_counter.keys()}\n",
        "  \n",
        "  for node in nodes:\n",
        "    if outgoing_counter[node]-ingoing_counter[node] > 0:\n",
        "      start = node\n",
        "    elif outgoing_counter[node]-ingoing_counter[node] < 0:\n",
        "      end = node\n",
        "\n",
        "  return (start, end)\n",
        "\n",
        "\n",
        "def add_edge(u, v, graph):\n",
        "  graph[u].append(v)\n",
        "\n",
        "\n",
        "def euler_cycle_using_stack(graph, start=None):\n",
        "  tour = []\n",
        "  stack = []\n",
        "\n",
        "\n",
        "  stack.append(start)\n",
        "  nxt = start\n",
        "  \n",
        "  while True:\n",
        "    if graph[nxt]:\n",
        "      nxt = graph[nxt].pop()\n",
        "      stack.append(nxt)\n",
        "    else:\n",
        "      cur = stack.pop()\n",
        "      tour.append(cur)\n",
        "\n",
        "      if stack:\n",
        "        nxt = stack[-1]\n",
        "      else:\n",
        "        break\n",
        "\n",
        "  return tour[: : -1]\n",
        "\n",
        "def euler_path(graph):\n",
        "  start, end = start_end_of_euler_path(graph)\n",
        "  add_edge(end, start, graph)\n",
        "\n",
        "  paths = euler_cycle_using_stack(graph, start)[:-1]\n",
        "\n",
        "  return paths\n",
        "########################################################################################\n",
        "\n",
        "\n",
        "def reconstruct_string_from_paired_kmers(k,d, paired_kmers):\n",
        "  d_bruijn_graph = d_bruijn_from_paired_kmers(k,paired_kmers)\n",
        "\n",
        "  paths = euler_path(d_bruijn_graph)\n",
        "\n",
        "  str_from_prefix = paths[0][:k-1] + ''.join([path[k-2] for path in paths[1:]])\n",
        "  str_from_suffix = ''.join([path[k] for path in paths[-(d+2):-1]]) + paths[-1][k:]\n",
        "  \n",
        "  return str_from_prefix + str_from_suffix\n",
        " "
      ],
      "metadata": {
        "id": "OWZ9ZQOwSaKS"
      },
      "execution_count": null,
      "outputs": []
    },
    {
      "cell_type": "code",
      "source": [
        "# DRIVER CODE\n",
        "k, d = 4, 2\n",
        "paired_reads = ['GAGA|TTGA', 'TCGT|GATG','CGTG|ATGT', 'TGGT|TGAG', 'GTGA|TGTT', 'GTGG|GTGA', 'TGAG|GTTG', 'GGTC|GAGA', 'GTCG|AGAT']\n",
        "\n",
        "reconstruct_string_from_paired_kmers(k,d, paired_reads)\n"
      ],
      "metadata": {
        "colab": {
          "base_uri": "https://localhost:8080/",
          "height": 36
        },
        "id": "vhCmXgwXf1C6",
        "outputId": "13c366be-5032-4e1b-810a-a46700ecb581"
      },
      "execution_count": null,
      "outputs": [
        {
          "output_type": "execute_result",
          "data": {
            "text/plain": [
              "'GTGGTCGTGAGATGTTGA'"
            ],
            "application/vnd.google.colaboratory.intrinsic+json": {
              "type": "string"
            }
          },
          "metadata": {},
          "execution_count": 140
        }
      ]
    }
  ]
}